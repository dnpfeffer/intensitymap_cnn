{
 "cells": [
  {
   "cell_type": "code",
   "execution_count": 15,
   "metadata": {
    "collapsed": false
   },
   "outputs": [],
   "source": [
    "import wget\n",
    "import requests\n",
    "from bs4 import BeautifulSoup"
   ]
  },
  {
   "cell_type": "code",
   "execution_count": 17,
   "metadata": {
    "collapsed": true
   },
   "outputs": [],
   "source": [
    "url = 'http://www.cita.utoronto.ca/~gstein/data/CO/COMAP_fullvolume/peak-patch-runs/'"
   ]
  },
  {
   "cell_type": "code",
   "execution_count": 18,
   "metadata": {
    "collapsed": false
   },
   "outputs": [],
   "source": [
    "page = requests.get(url)"
   ]
  },
  {
   "cell_type": "code",
   "execution_count": 19,
   "metadata": {
    "collapsed": true
   },
   "outputs": [],
   "source": [
    "soup = BeautifulSoup(page.text, 'html.parser')"
   ]
  },
  {
   "cell_type": "code",
   "execution_count": 24,
   "metadata": {
    "collapsed": false
   },
   "outputs": [],
   "source": [
    "links = soup.find_all('a')"
   ]
  },
  {
   "cell_type": "code",
   "execution_count": 30,
   "metadata": {
    "collapsed": false
   },
   "outputs": [],
   "source": [
    "goodLinks = []\n",
    "linkNames = []\n",
    "for link in links:\n",
    "    if '.npz' not in link.contents[0]:\n",
    "        continue\n",
    "    goodLinks.append(url + link.contents[0])\n",
    "    linkNames.append(link.contents[0])"
   ]
  },
  {
   "cell_type": "code",
   "execution_count": 33,
   "metadata": {
    "collapsed": true
   },
   "outputs": [],
   "source": [
    "saveLocation = '../catalogues/'"
   ]
  },
  {
   "cell_type": "code",
   "execution_count": 34,
   "metadata": {
    "collapsed": false
   },
   "outputs": [
    {
     "data": {
      "text/plain": [
       "'../catalogues/COMAP_z2.39-3.44_1140Mpc_seed_13579.npz'"
      ]
     },
     "execution_count": 34,
     "metadata": {},
     "output_type": "execute_result"
    }
   ],
   "source": [
    "saveLocation + linkNames[0]"
   ]
  },
  {
   "cell_type": "code",
   "execution_count": 35,
   "metadata": {
    "collapsed": false
   },
   "outputs": [
    {
     "data": {
      "text/plain": [
       "'../catalogues/COMAP_z2.39-3.44_1140Mpc_seed_13579.npz'"
      ]
     },
     "execution_count": 35,
     "metadata": {},
     "output_type": "execute_result"
    }
   ],
   "source": [
    "wget.download(goodLinks[0], saveLocation + linkNames[0])"
   ]
  },
  {
   "cell_type": "code",
   "execution_count": 36,
   "metadata": {
    "collapsed": false
   },
   "outputs": [
    {
     "data": {
      "text/plain": [
       "True"
      ]
     },
     "execution_count": 36,
     "metadata": {},
     "output_type": "execute_result"
    }
   ],
   "source": [
    "os.path.isfile(saveLocation + linkNames[0])"
   ]
  },
  {
   "cell_type": "code",
   "execution_count": 37,
   "metadata": {
    "collapsed": false
   },
   "outputs": [
    {
     "data": {
      "text/plain": [
       "False"
      ]
     },
     "execution_count": 37,
     "metadata": {},
     "output_type": "execute_result"
    }
   ],
   "source": [
    "os.path.isfile(saveLocation + linkNames[1])"
   ]
  },
  {
   "cell_type": "code",
   "execution_count": 38,
   "metadata": {
    "collapsed": false
   },
   "outputs": [
    {
     "name": "stdout",
     "output_type": "stream",
     "text": [
      "0 COMAP_z2.39-3.44_1140Mpc_seed_13579.npz\n",
      "1 COMAP_z2.39-3.44_1140Mpc_seed_13581.npz\n",
      "2 COMAP_z2.39-3.44_1140Mpc_seed_13583.npz\n",
      "3 COMAP_z2.39-3.44_1140Mpc_seed_13585.npz\n",
      "4 COMAP_z2.39-3.44_1140Mpc_seed_13587.npz\n",
      "5 COMAP_z2.39-3.44_1140Mpc_seed_13589.npz\n",
      "6 COMAP_z2.39-3.44_1140Mpc_seed_13591.npz\n",
      "7 COMAP_z2.39-3.44_1140Mpc_seed_13593.npz\n",
      "8 COMAP_z2.39-3.44_1140Mpc_seed_13595.npz\n",
      "9 COMAP_z2.39-3.44_1140Mpc_seed_13597.npz\n",
      "10 COMAP_z2.39-3.44_1140Mpc_seed_13599.npz\n",
      "11 COMAP_z2.39-3.44_1140Mpc_seed_13601.npz\n",
      "12 COMAP_z2.39-3.44_1140Mpc_seed_13603.npz\n",
      "13 COMAP_z2.39-3.44_1140Mpc_seed_13605.npz\n",
      "14 COMAP_z2.39-3.44_1140Mpc_seed_13607.npz\n",
      "15 COMAP_z2.39-3.44_1140Mpc_seed_13609.npz\n",
      "16 COMAP_z2.39-3.44_1140Mpc_seed_13611.npz\n",
      "17 COMAP_z2.39-3.44_1140Mpc_seed_13613.npz\n",
      "18 COMAP_z2.39-3.44_1140Mpc_seed_13615.npz\n",
      "19 COMAP_z2.39-3.44_1140Mpc_seed_13617.npz\n",
      "20 COMAP_z2.39-3.44_1140Mpc_seed_13619.npz\n",
      "21 COMAP_z2.39-3.44_1140Mpc_seed_13621.npz\n",
      "22 COMAP_z2.39-3.44_1140Mpc_seed_13623.npz\n",
      "23 COMAP_z2.39-3.44_1140Mpc_seed_13625.npz\n",
      "24 COMAP_z2.39-3.44_1140Mpc_seed_13627.npz\n",
      "25 COMAP_z2.39-3.44_1140Mpc_seed_13629.npz\n",
      "26 COMAP_z2.39-3.44_1140Mpc_seed_13631.npz\n",
      "27 COMAP_z2.39-3.44_1140Mpc_seed_13633.npz\n",
      "28 COMAP_z2.39-3.44_1140Mpc_seed_13635.npz\n",
      "29 COMAP_z2.39-3.44_1140Mpc_seed_13637.npz\n",
      "30 COMAP_z2.39-3.44_1140Mpc_seed_13639.npz\n",
      "31 COMAP_z2.39-3.44_1140Mpc_seed_13641.npz\n",
      "32 COMAP_z2.39-3.44_1140Mpc_seed_13643.npz\n",
      "33 COMAP_z2.39-3.44_1140Mpc_seed_13645.npz\n",
      "34 COMAP_z2.39-3.44_1140Mpc_seed_13647.npz\n",
      "35 COMAP_z2.39-3.44_1140Mpc_seed_13649.npz\n",
      "36 COMAP_z2.39-3.44_1140Mpc_seed_13651.npz\n",
      "37 COMAP_z2.39-3.44_1140Mpc_seed_13653.npz\n",
      "38 COMAP_z2.39-3.44_1140Mpc_seed_13655.npz\n",
      "39 COMAP_z2.39-3.44_1140Mpc_seed_13657.npz\n",
      "40 COMAP_z2.39-3.44_1140Mpc_seed_13659.npz\n",
      "41 COMAP_z2.39-3.44_1140Mpc_seed_13661.npz\n",
      "42 COMAP_z2.39-3.44_1140Mpc_seed_13663.npz\n",
      "43 COMAP_z2.39-3.44_1140Mpc_seed_13665.npz\n",
      "44 COMAP_z2.39-3.44_1140Mpc_seed_13667.npz\n",
      "45 COMAP_z2.39-3.44_1140Mpc_seed_13669.npz\n",
      "46 COMAP_z2.39-3.44_1140Mpc_seed_13671.npz\n",
      "47 COMAP_z2.39-3.44_1140Mpc_seed_13673.npz\n",
      "48 COMAP_z2.39-3.44_1140Mpc_seed_13675.npz\n",
      "49 COMAP_z2.39-3.44_1140Mpc_seed_13677.npz\n",
      "50 COMAP_z2.39-3.44_1140Mpc_seed_13679.npz\n",
      "51 COMAP_z2.39-3.44_1140Mpc_seed_13681.npz\n",
      "52 COMAP_z2.39-3.44_1140Mpc_seed_13683.npz\n",
      "53 COMAP_z2.39-3.44_1140Mpc_seed_13685.npz\n",
      "54 COMAP_z2.39-3.44_1140Mpc_seed_13687.npz\n",
      "55 COMAP_z2.39-3.44_1140Mpc_seed_13689.npz\n",
      "56 COMAP_z2.39-3.44_1140Mpc_seed_13691.npz\n",
      "57 COMAP_z2.39-3.44_1140Mpc_seed_13693.npz\n",
      "58 COMAP_z2.39-3.44_1140Mpc_seed_13695.npz\n",
      "59 COMAP_z2.39-3.44_1140Mpc_seed_13697.npz\n",
      "60 COMAP_z2.39-3.44_1140Mpc_seed_13699.npz\n",
      "61 COMAP_z2.39-3.44_1140Mpc_seed_13701.npz\n",
      "62 COMAP_z2.39-3.44_1140Mpc_seed_13703.npz\n",
      "63 COMAP_z2.39-3.44_1140Mpc_seed_13705.npz\n",
      "64 COMAP_z2.39-3.44_1140Mpc_seed_13707.npz\n",
      "65 COMAP_z2.39-3.44_1140Mpc_seed_13709.npz\n",
      "66 COMAP_z2.39-3.44_1140Mpc_seed_13711.npz\n",
      "67 COMAP_z2.39-3.44_1140Mpc_seed_13713.npz\n",
      "68 COMAP_z2.39-3.44_1140Mpc_seed_13715.npz\n",
      "69 COMAP_z2.39-3.44_1140Mpc_seed_13717.npz\n",
      "70 COMAP_z2.39-3.44_1140Mpc_seed_13719.npz\n",
      "71 COMAP_z2.39-3.44_1140Mpc_seed_13721.npz\n",
      "72 COMAP_z2.39-3.44_1140Mpc_seed_13723.npz\n",
      "73 COMAP_z2.39-3.44_1140Mpc_seed_13725.npz\n",
      "74 COMAP_z2.39-3.44_1140Mpc_seed_13727.npz\n",
      "75 COMAP_z2.39-3.44_1140Mpc_seed_13729.npz\n",
      "76 COMAP_z2.39-3.44_1140Mpc_seed_13731.npz\n",
      "77 COMAP_z2.39-3.44_1140Mpc_seed_13733.npz\n",
      "78 COMAP_z2.39-3.44_1140Mpc_seed_13735.npz\n",
      "79 COMAP_z2.39-3.44_1140Mpc_seed_13737.npz\n",
      "80 COMAP_z2.39-3.44_1140Mpc_seed_13739.npz\n",
      "81 COMAP_z2.39-3.44_1140Mpc_seed_13741.npz\n",
      "82 COMAP_z2.39-3.44_1140Mpc_seed_13743.npz\n",
      "83 COMAP_z2.39-3.44_1140Mpc_seed_13745.npz\n",
      "84 COMAP_z2.39-3.44_1140Mpc_seed_13747.npz\n",
      "85 COMAP_z2.39-3.44_1140Mpc_seed_13749.npz\n",
      "86 COMAP_z2.39-3.44_1140Mpc_seed_13751.npz\n",
      "87 COMAP_z2.39-3.44_1140Mpc_seed_13753.npz\n",
      "88 COMAP_z2.39-3.44_1140Mpc_seed_13755.npz\n",
      "89 COMAP_z2.39-3.44_1140Mpc_seed_13757.npz\n",
      "90 COMAP_z2.39-3.44_1140Mpc_seed_13759.npz\n",
      "91 COMAP_z2.39-3.44_1140Mpc_seed_13761.npz\n",
      "92 COMAP_z2.39-3.44_1140Mpc_seed_13763.npz\n",
      "93 COMAP_z2.39-3.44_1140Mpc_seed_13765.npz\n",
      "94 COMAP_z2.39-3.44_1140Mpc_seed_13767.npz\n",
      "95 COMAP_z2.39-3.44_1140Mpc_seed_13769.npz\n",
      "96 COMAP_z2.39-3.44_1140Mpc_seed_13771.npz\n",
      "97 COMAP_z2.39-3.44_1140Mpc_seed_13773.npz\n",
      "98 COMAP_z2.39-3.44_1140Mpc_seed_13775.npz\n",
      "99 COMAP_z2.39-3.44_1140Mpc_seed_13777.npz\n",
      "100 COMAP_z2.39-3.44_1140Mpc_seed_13779.npz\n",
      "101 COMAP_z2.39-3.44_1140Mpc_seed_13781.npz\n",
      "102 COMAP_z2.39-3.44_1140Mpc_seed_13783.npz\n",
      "103 COMAP_z2.39-3.44_1140Mpc_seed_13785.npz\n",
      "104 COMAP_z2.39-3.44_1140Mpc_seed_13787.npz\n",
      "105 COMAP_z2.39-3.44_1140Mpc_seed_13789.npz\n",
      "106 COMAP_z2.39-3.44_1140Mpc_seed_13791.npz\n",
      "107 COMAP_z2.39-3.44_1140Mpc_seed_13793.npz\n",
      "108 COMAP_z2.39-3.44_1140Mpc_seed_13795.npz\n",
      "109 COMAP_z2.39-3.44_1140Mpc_seed_13797.npz\n",
      "110 COMAP_z2.39-3.44_1140Mpc_seed_13799.npz\n",
      "111 COMAP_z2.39-3.44_1140Mpc_seed_13801.npz\n",
      "112 COMAP_z2.39-3.44_1140Mpc_seed_13803.npz\n",
      "113 COMAP_z2.39-3.44_1140Mpc_seed_13805.npz\n",
      "114 COMAP_z2.39-3.44_1140Mpc_seed_13807.npz\n",
      "115 COMAP_z2.39-3.44_1140Mpc_seed_13809.npz\n",
      "116 COMAP_z2.39-3.44_1140Mpc_seed_13811.npz\n",
      "117 COMAP_z2.39-3.44_1140Mpc_seed_13813.npz\n",
      "118 COMAP_z2.39-3.44_1140Mpc_seed_13815.npz\n",
      "119 COMAP_z2.39-3.44_1140Mpc_seed_13817.npz\n",
      "120 COMAP_z2.39-3.44_1140Mpc_seed_13819.npz\n",
      "121 COMAP_z2.39-3.44_1140Mpc_seed_13821.npz\n",
      "122 COMAP_z2.39-3.44_1140Mpc_seed_13823.npz\n",
      "123 COMAP_z2.39-3.44_1140Mpc_seed_13825.npz\n",
      "124 COMAP_z2.39-3.44_1140Mpc_seed_13827.npz\n",
      "125 COMAP_z2.39-3.44_1140Mpc_seed_13829.npz\n",
      "126 COMAP_z2.39-3.44_1140Mpc_seed_13831.npz\n",
      "127 COMAP_z2.39-3.44_1140Mpc_seed_13833.npz\n",
      "128 COMAP_z2.39-3.44_1140Mpc_seed_13835.npz\n",
      "129 COMAP_z2.39-3.44_1140Mpc_seed_13837.npz\n",
      "130 COMAP_z2.39-3.44_1140Mpc_seed_13839.npz\n",
      "131 COMAP_z2.39-3.44_1140Mpc_seed_13841.npz\n",
      "132 COMAP_z2.39-3.44_1140Mpc_seed_13843.npz\n",
      "133 COMAP_z2.39-3.44_1140Mpc_seed_13845.npz\n",
      "134 COMAP_z2.39-3.44_1140Mpc_seed_13847.npz\n",
      "135 COMAP_z2.39-3.44_1140Mpc_seed_13849.npz\n",
      "136 COMAP_z2.39-3.44_1140Mpc_seed_13851.npz\n",
      "137 COMAP_z2.39-3.44_1140Mpc_seed_13853.npz\n",
      "138 COMAP_z2.39-3.44_1140Mpc_seed_13855.npz\n",
      "139 COMAP_z2.39-3.44_1140Mpc_seed_13857.npz\n",
      "140 COMAP_z2.39-3.44_1140Mpc_seed_13859.npz\n",
      "141 COMAP_z2.39-3.44_1140Mpc_seed_13861.npz\n",
      "142 COMAP_z2.39-3.44_1140Mpc_seed_13863.npz\n",
      "143 COMAP_z2.39-3.44_1140Mpc_seed_13865.npz\n",
      "144 COMAP_z2.39-3.44_1140Mpc_seed_13867.npz\n",
      "145 COMAP_z2.39-3.44_1140Mpc_seed_13869.npz\n",
      "146 COMAP_z2.39-3.44_1140Mpc_seed_13871.npz\n",
      "147 COMAP_z2.39-3.44_1140Mpc_seed_13873.npz\n",
      "148 COMAP_z2.39-3.44_1140Mpc_seed_13875.npz\n",
      "149 COMAP_z2.39-3.44_1140Mpc_seed_13877.npz\n",
      "150 COMAP_z2.39-3.44_1140Mpc_seed_13879.npz\n",
      "151 COMAP_z2.39-3.44_1140Mpc_seed_13881.npz\n",
      "152 COMAP_z2.39-3.44_1140Mpc_seed_13883.npz\n",
      "153 COMAP_z2.39-3.44_1140Mpc_seed_13885.npz\n",
      "154 COMAP_z2.39-3.44_1140Mpc_seed_13887.npz\n",
      "155 COMAP_z2.39-3.44_1140Mpc_seed_13889.npz\n",
      "156 COMAP_z2.39-3.44_1140Mpc_seed_13891.npz\n",
      "157 COMAP_z2.39-3.44_1140Mpc_seed_13893.npz\n",
      "158 COMAP_z2.39-3.44_1140Mpc_seed_13895.npz\n",
      "159 COMAP_z2.39-3.44_1140Mpc_seed_13897.npz\n",
      "160 COMAP_z2.39-3.44_1140Mpc_seed_13899.npz\n"
     ]
    }
   ],
   "source": [
    "for i, link in enumerate(linkNames):\n",
    "    print(i, link)"
   ]
  },
  {
   "cell_type": "code",
   "execution_count": null,
   "metadata": {
    "collapsed": true
   },
   "outputs": [],
   "source": []
  }
 ],
 "metadata": {
  "kernelspec": {
   "display_name": "Python 3",
   "language": "python",
   "name": "python3"
  },
  "language_info": {
   "codemirror_mode": {
    "name": "ipython",
    "version": 3
   },
   "file_extension": ".py",
   "mimetype": "text/x-python",
   "name": "python",
   "nbconvert_exporter": "python",
   "pygments_lexer": "ipython3",
   "version": "3.5.3"
  }
 },
 "nbformat": 4,
 "nbformat_minor": 0
}
