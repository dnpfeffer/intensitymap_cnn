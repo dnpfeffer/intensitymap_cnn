{
 "cells": [
  {
   "cell_type": "code",
   "execution_count": 1,
   "metadata": {
    "collapsed": true
   },
   "outputs": [],
   "source": [
    "import numpy as np\n",
    "\n",
    "from limlam_mocker import limlam_mocker as llm\n",
    "import lnn as lnn\n",
    "\n",
    "%load_ext autoreload"
   ]
  },
  {
   "cell_type": "code",
   "execution_count": 2,
   "metadata": {
    "collapsed": true
   },
   "outputs": [],
   "source": [
    "%autoreload 2"
   ]
  },
  {
   "cell_type": "code",
   "execution_count": 3,
   "metadata": {
    "collapsed": true
   },
   "outputs": [],
   "source": [
    "### set the location of the halo catalogs and maps\n",
    "haloLoc = '../catalogues2/'\n",
    "mapLoc = '../maps2/test/'"
   ]
  },
  {
   "cell_type": "code",
   "execution_count": 4,
   "metadata": {
    "collapsed": true
   },
   "outputs": [],
   "source": [
    "### what noise level to use\n",
    "noise = 0\n",
    "\n",
    "### to use base coefficients for the model or not\n",
    "default = True\n",
    "\n",
    "### make sure the map directory exists\n",
    "lnn.checkDirectoryPath(mapLoc)\n",
    "\n",
    "### get the subfield names\n",
    "subFields = lnn.loadSubFields(haloLoc)\n",
    "\n",
    "### number of maps to make\n",
    "numb_maps = 5796\n"
   ]
  },
  {
   "cell_type": "code",
   "execution_count": 5,
   "metadata": {
    "collapsed": false
   },
   "outputs": [
    {
     "name": "stdout",
     "output_type": "stream",
     "text": [
      "Finished making map 0 out of 5796 (0.000%)\n"
     ]
    }
   ],
   "source": [
    "### start making random maps\n",
    "for i in range(numb_maps)[:2]:\n",
    "    lnn.make_random_map(subFields, haloLoc, mapLoc, default, noise=noise)\n",
    "\n",
    "    ### print every 100 maps where we are in the process\n",
    "    if i%100 == 0:\n",
    "            print('Finished making map {} out of {} ({:.3f}%)'.format(i, numb_maps, i/numb_maps*100))"
   ]
  },
  {
   "cell_type": "code",
   "execution_count": null,
   "metadata": {
    "collapsed": true
   },
   "outputs": [],
   "source": []
  },
  {
   "cell_type": "code",
   "execution_count": null,
   "metadata": {
    "collapsed": true
   },
   "outputs": [],
   "source": []
  },
  {
   "cell_type": "code",
   "execution_count": 33,
   "metadata": {
    "collapsed": true
   },
   "outputs": [],
   "source": [
    "mapLoc = '../maps2/random_Li/'\n",
    "mapLoc_noise = '../maps2/random_noisy_Li/'\n",
    "mapLoc_different = '../maps2/random_maps2/'\n",
    "catLoc = '../catalogues2/'\n",
    "modelLoc = '../models2/'\n",
    "modelLoc2 = '../models3/'\n",
    "\n",
    "subFields = lnn.loadBaseFNames(mapLoc_different)\n",
    "base = [mapLoc_different + s for s in subFields]"
   ]
  },
  {
   "cell_type": "code",
   "execution_count": 45,
   "metadata": {
    "collapsed": false
   },
   "outputs": [],
   "source": [
    "fName = base[0] + '_lum.npz'\n",
    "data = lnn.loadData(fName)"
   ]
  },
  {
   "cell_type": "code",
   "execution_count": 44,
   "metadata": {
    "collapsed": false
   },
   "outputs": [],
   "source": [
    "model = model_from_file_name(subFields[0])\n",
    "\n",
    "### save the file\n",
    "np.savez(str(fName),\n",
    "    logBinCent  =   data['logBinCent'],\n",
    "    numberCt    =   data['numberCt'],\n",
    "    lumFunc     =   data['lumFunc'],\n",
    "    model       =   model)"
   ]
  },
  {
   "cell_type": "code",
   "execution_count": 59,
   "metadata": {
    "collapsed": true
   },
   "outputs": [],
   "source": [
    "from datetime import datetime"
   ]
  },
  {
   "cell_type": "code",
   "execution_count": 36,
   "metadata": {
    "collapsed": true
   },
   "outputs": [],
   "source": [
    "def model_from_file_name(file_name):\n",
    "    if 'Li' in file_name:\n",
    "        model = 'Li'\n",
    "    elif 'Padmanabhan' in file_name:\n",
    "        model = 'Padmanabhan'\n",
    "    elif 'Breysse' in file_name:\n",
    "        model = 'Breysse'\n",
    "    else:\n",
    "        model = 'None'\n",
    "        \n",
    "    return(model)"
   ]
  },
  {
   "cell_type": "code",
   "execution_count": 51,
   "metadata": {
    "collapsed": true
   },
   "outputs": [],
   "source": [
    "subFields = lnn.loadBaseFNames(mapLoc_different)"
   ]
  },
  {
   "cell_type": "code",
   "execution_count": 66,
   "metadata": {
    "collapsed": false
   },
   "outputs": [
    {
     "data": {
      "text/plain": [
       "'COMAP_z2.39-3.44_1140Mpc_seed_13827_rotate_0_subfield_21__Breysse_2.000e-06_1.000e+00'"
      ]
     },
     "execution_count": 66,
     "metadata": {},
     "output_type": "execute_result"
    }
   ],
   "source": [
    "subFields[0]"
   ]
  },
  {
   "cell_type": "code",
   "execution_count": 68,
   "metadata": {
    "collapsed": false
   },
   "outputs": [
    {
     "name": "stdout",
     "output_type": "stream",
     "text": [
      "15.8630201\n"
     ]
    }
   ],
   "source": [
    "map_loc = '../maps2/random_noisy_Li/'\n",
    "subFields = lnn.loadBaseFNames(map_loc)\n",
    "startTime = datetime.now()\n",
    "\n",
    "for sub in subFields:\n",
    "    file_name = map_loc + sub + '_lum.npz'\n",
    "    model = model_from_file_name(file_name)\n",
    "\n",
    "    data = lnn.loadData(file_name)\n",
    "\n",
    "    np.savez(str(file_name),\n",
    "        logBinCent  =   data['logBinCent'],\n",
    "        numberCt    =   data['numberCt'],\n",
    "        lumFunc     =   data['lumFunc'],\n",
    "        model       =   model)\n",
    "    \n",
    "print((datetime.now() - startTime).total_seconds()/20.0)"
   ]
  },
  {
   "cell_type": "code",
   "execution_count": 46,
   "metadata": {
    "collapsed": false
   },
   "outputs": [
    {
     "data": {
      "text/plain": [
       "['lumFunc', 'model', 'logBinCent', 'numberCt']"
      ]
     },
     "execution_count": 46,
     "metadata": {},
     "output_type": "execute_result"
    }
   ],
   "source": [
    "list(data)"
   ]
  },
  {
   "cell_type": "code",
   "execution_count": 47,
   "metadata": {
    "collapsed": false
   },
   "outputs": [
    {
     "data": {
      "text/plain": [
       "{'logBinCent': array([  3.43332002e+03,   4.04708995e+03,   4.77058270e+03,\n",
       "          5.62341325e+03,   6.62870316e+03,   7.81370738e+03,\n",
       "          9.21055318e+03,   1.08571112e+04,   1.27980221e+04,\n",
       "          1.50859071e+04,   1.77827941e+04,   2.09617999e+04,\n",
       "          2.47091123e+04,   2.91263265e+04,   3.43332002e+04,\n",
       "          4.04708995e+04,   4.77058270e+04,   5.62341325e+04,\n",
       "          6.62870316e+04,   7.81370738e+04,   9.21055318e+04,\n",
       "          1.08571112e+05,   1.27980221e+05,   1.50859071e+05,\n",
       "          1.77827941e+05,   2.09617999e+05,   2.47091123e+05,\n",
       "          2.91263265e+05,   3.43332002e+05,   4.04708995e+05,\n",
       "          4.77058270e+05,   5.62341325e+05,   6.62870316e+05,\n",
       "          7.81370738e+05,   9.21055318e+05,   1.08571112e+06,\n",
       "          1.27980221e+06,   1.50859071e+06,   1.77827941e+06,\n",
       "          2.09617999e+06,   2.47091123e+06,   2.91263265e+06,\n",
       "          3.43332002e+06,   4.04708995e+06,   4.77058270e+06,\n",
       "          5.62341325e+06,   6.62870316e+06,   7.81370738e+06,\n",
       "          9.21055318e+06]),\n",
       " 'lumFunc': array([     0,      0,      0,      0,      0,      0,      0,      0,\n",
       "             0,      0,      0,      0,      0,      0,      0,      0,\n",
       "             0,  16104, 133408, 123638, 101726,  85373,  77927,  53056,\n",
       "         49349,  40981,  34051,  27981,  23101,  19000,  15291,  12432,\n",
       "         10257,   8414,   6925,   5356,   4362,   3541,   2713,   2157,\n",
       "          1695,   1405,   1040,    805,    610,    467,    331,    287,\n",
       "           187]),\n",
       " 'model': array('Breysse',\n",
       "       dtype='<U7'),\n",
       " 'numberCt': array([863970, 863970, 863970, 863970, 863970, 863970, 863970, 863970,\n",
       "        863970, 863970, 863970, 863970, 863970, 863970, 863970, 863970,\n",
       "        863970, 863970, 847866, 714458, 590820, 489094, 403721, 325794,\n",
       "        272738, 223389, 182408, 148357, 120376,  97275,  78275,  62984,\n",
       "         50552,  40295,  31881,  24956,  19600,  15238,  11697,   8984,\n",
       "          6827,   5132,   3727,   2687,   1882,   1272,    805,    474,\n",
       "           187])}"
      ]
     },
     "execution_count": 47,
     "metadata": {},
     "output_type": "execute_result"
    }
   ],
   "source": [
    "dict(data)"
   ]
  },
  {
   "cell_type": "code",
   "execution_count": null,
   "metadata": {
    "collapsed": true
   },
   "outputs": [],
   "source": []
  }
 ],
 "metadata": {
  "kernelspec": {
   "display_name": "Python 3",
   "language": "python",
   "name": "python3"
  },
  "language_info": {
   "codemirror_mode": {
    "name": "ipython",
    "version": 3
   },
   "file_extension": ".py",
   "mimetype": "text/x-python",
   "name": "python",
   "nbconvert_exporter": "python",
   "pygments_lexer": "ipython3",
   "version": "3.5.3"
  }
 },
 "nbformat": 4,
 "nbformat_minor": 0
}
