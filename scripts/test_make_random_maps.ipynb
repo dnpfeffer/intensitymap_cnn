{
 "cells": [
  {
   "cell_type": "code",
   "execution_count": 21,
   "metadata": {
    "collapsed": true
   },
   "outputs": [],
   "source": [
    "import numpy as np\n",
    "import random\n",
    "from pathlib import Path\n",
    "\n",
    "from limlam_mocker import limlam_mocker as llm\n",
    "import lnn as lnn"
   ]
  },
  {
   "cell_type": "code",
   "execution_count": 58,
   "metadata": {
    "collapsed": false
   },
   "outputs": [],
   "source": [
    "def make_random_map(catalogs, haloLoc, mapLoc):\n",
    "    catalog = random.choice(catalogs)\n",
    "    \n",
    "    return(make_random_map_from_cat(catalog, haloLoc, mapLoc))\n",
    "\n",
    "def make_random_map_from_cat(catalog, haloLoc, mapLoc):\n",
    "    ### make a random paramDict\n",
    "    paramDict = {}\n",
    "    paramDict = make_paramDict(paramDict=paramDict)\n",
    "    \n",
    "    ### make sure the map directory exists\n",
    "    lnn.checkDirectoryPath(mapLoc)\n",
    "    \n",
    "    param = lnn.getParams(haloLoc + catalog, mapLoc + catalog, **paramDict)\n",
    "    \n",
    "    file_name = coeffs_to_file_name(param.model, param.coeffs, mapLoc, catalog)\n",
    "    param.map_output_file = file_name\n",
    "    return(param.map_output_file)\n",
    "#     print(param.halo_catalogue_file, '\\n', param.map_output_file, '\\n', param.model, '\\n', param.coeffs)\n",
    "#     lnn.makeAndSaveMapAndLumFunc(param, verbose=False)\n",
    "\n",
    "def make_paramDict(paramDict, model=None, default=False):\n",
    "    model_list = ['Li', 'Padmanabhan', 'Breysse']\n",
    "    means = []\n",
    "    sig = []\n",
    "    \n",
    "    ### randomly pick a model if none is given\n",
    "    if model == None:\n",
    "        model = random.choice(model_list)\n",
    "    \n",
    "    ### set up the coefficients for the model\n",
    "    if model == 'Li':\n",
    "        ### parameter info from arxiv:1503.08833 \n",
    "        ### log_delta_mf, alpha, beta, sigma_sfr (>0), sigma_lc0 (>0)\n",
    "        means = [0.0, 1.37,-1.74, 0.3, 0.3]\n",
    "        ### loose priors\n",
    "        sig = [0.3, 0.37, 3.74, 0.1, 0.1]\n",
    "        ### stronger priors\n",
    "        #sig = [0.3, 0.04, 0.4, 0.1, 0.1]\n",
    "    elif model == 'Padmanabhan':\n",
    "        ### parameter info from arxiv:1706.01471 \n",
    "        ### m10, m11, n10, n11, b10, b11, y10, y11\n",
    "        means = [4.17e12, -1.17, 0.0033, 0.04, 0.95, 0.48, 0.66, -0.33]\n",
    "        ### priors\n",
    "        sig = [2.03e12, 0.85, 0.0016, 0.03, 0.46, 0.35, 0.32, 0.24]\n",
    "    elif model == 'Breysse':\n",
    "        ### parameter info from arxiv:1706.01471 \n",
    "        ### A, b\n",
    "        means = [2e-6, 1.0]\n",
    "        ### priors\n",
    "        sig = [5e-7, 0.125]\n",
    "    else:\n",
    "        sys.exit('\\n\\n\\tYour model, '+model+', does not seem to exist\\n\\t\\tPlease check src/halos_to_luminosity.py in limlam_mocker to add it\\n\\n')\n",
    "\n",
    "    ### set the model parameter for limlam\n",
    "    paramDict['model'] = model\n",
    "    \n",
    "    ### if default is set, use the default values\n",
    "    if default:\n",
    "        coeffs = means\n",
    "    ### if default is not set, find a random realization of the given model's parameters\n",
    "    else:\n",
    "        coeffs = [np.random.normal(x,y) for x,y in zip(means, sig)]    \n",
    "        \n",
    "        ### make sure last two parameters in the Li model are non-negative\n",
    "        if model == 'Li':\n",
    "            for i in [-1,-2]:\n",
    "                if coeffs[i] < 0:\n",
    "                    coeffs[i] = 0\n",
    "        \n",
    "    ### set coeffs parameter for limlam\n",
    "    paramDict['coeffs'] = coeffs\n",
    "    \n",
    "    return(paramDict)\n",
    "\n",
    "def coeffs_to_file_name(model, coeffs, mapLoc, catalog):\n",
    "    file_name = '__' + model + '_'\n",
    "\n",
    "    for coeff in coeffs:\n",
    "        file_name += '{:.3e}_'.format(coeff)\n",
    "\n",
    "    full_file_name = mapLoc + catalog[:-4] + file_name[:-1] + catalog[-4:]\n",
    "        \n",
    "    return(full_file_name)\n",
    "\n",
    "def path_to_coeffs(path):\n",
    "    file_name = path.split('/')[-1]\n",
    "    model, coeffs = file_name_to_coeffs(file_name)\n",
    "    \n",
    "    return(model, coeffs)\n",
    "\n",
    "def file_name_to_coeffs(file_name):\n",
    "    cat, lum_info = file_name.split('__')\n",
    "\n",
    "    lum_list = lum_info[:-4].split('_')\n",
    "    model = lum_list[0]\n",
    "    coeffs = list(map(float, lum_list[1:]))\n",
    "    \n",
    "    return(model, coeffs)"
   ]
  },
  {
   "cell_type": "code",
   "execution_count": 3,
   "metadata": {
    "collapsed": true
   },
   "outputs": [],
   "source": [
    "### set the location of the halo catalogs and maps\n",
    "haloLoc = '../catalogues2/'\n",
    "mapLoc = '../maps2/test2/'"
   ]
  },
  {
   "cell_type": "code",
   "execution_count": 4,
   "metadata": {
    "collapsed": false
   },
   "outputs": [],
   "source": [
    "### get the subfield names\n",
    "subFields = lnn.loadSubFields(haloLoc)"
   ]
  },
  {
   "cell_type": "code",
   "execution_count": null,
   "metadata": {
    "collapsed": true
   },
   "outputs": [],
   "source": []
  },
  {
   "cell_type": "code",
   "execution_count": 52,
   "metadata": {
    "collapsed": false,
    "scrolled": true
   },
   "outputs": [],
   "source": [
    "map_names = []\n",
    "\n",
    "for i in range(10000):\n",
    "    temp_map = make_random_map(subFields, haloLoc, mapLoc)\n",
    "    map_names.append(temp_map)"
   ]
  },
  {
   "cell_type": "code",
   "execution_count": 11,
   "metadata": {
    "collapsed": false
   },
   "outputs": [
    {
     "data": {
      "text/plain": [
       "10000"
      ]
     },
     "execution_count": 11,
     "metadata": {},
     "output_type": "execute_result"
    }
   ],
   "source": [
    "len(map_names)"
   ]
  },
  {
   "cell_type": "code",
   "execution_count": 15,
   "metadata": {
    "collapsed": false
   },
   "outputs": [
    {
     "data": {
      "text/plain": [
       "9999"
      ]
     },
     "execution_count": 15,
     "metadata": {},
     "output_type": "execute_result"
    }
   ],
   "source": [
    "len(set(map_names))"
   ]
  },
  {
   "cell_type": "code",
   "execution_count": 14,
   "metadata": {
    "collapsed": false
   },
   "outputs": [],
   "source": [
    "map_names[0] = map_names[1]"
   ]
  },
  {
   "cell_type": "code",
   "execution_count": 53,
   "metadata": {
    "collapsed": false
   },
   "outputs": [
    {
     "data": {
      "text/plain": [
       "'../maps2/test2/COMAP_z2.39-3.44_1140Mpc_seed_13765_rotate_0_subfield_18__Li_-1.280e-01_2.056e+00_-3.450e+00_3.376e-01_5.537e-01.npz'"
      ]
     },
     "execution_count": 53,
     "metadata": {},
     "output_type": "execute_result"
    }
   ],
   "source": [
    "map_names[0]"
   ]
  },
  {
   "cell_type": "code",
   "execution_count": 43,
   "metadata": {
    "collapsed": true
   },
   "outputs": [],
   "source": [
    "test_name = map_names[6]"
   ]
  },
  {
   "cell_type": "code",
   "execution_count": 37,
   "metadata": {
    "collapsed": false
   },
   "outputs": [],
   "source": [
    "file_name = test_name.split('/')[-1]\n",
    "cat, lum_info = file_name.split('__')"
   ]
  },
  {
   "cell_type": "code",
   "execution_count": 22,
   "metadata": {
    "collapsed": true
   },
   "outputs": [],
   "source": [
    "file_name = Path(test_name)"
   ]
  },
  {
   "cell_type": "code",
   "execution_count": 32,
   "metadata": {
    "collapsed": false
   },
   "outputs": [
    {
     "name": "stdout",
     "output_type": "stream",
     "text": [
      "../maps2/test2\n",
      "../maps2\n",
      "..\n",
      ".\n"
     ]
    }
   ],
   "source": [
    "for p in file_name.parents:\n",
    "    print(p)"
   ]
  },
  {
   "cell_type": "code",
   "execution_count": 33,
   "metadata": {
    "collapsed": false
   },
   "outputs": [
    {
     "data": {
      "text/plain": [
       "'COMAP_z2.39-3.44_1140Mpc_seed_13669_rotate_0_subfield_8__Breysse_1.458e-061.061e+00.npz'"
      ]
     },
     "execution_count": 33,
     "metadata": {},
     "output_type": "execute_result"
    }
   ],
   "source": [
    "file_name.name"
   ]
  },
  {
   "cell_type": "code",
   "execution_count": 38,
   "metadata": {
    "collapsed": false
   },
   "outputs": [
    {
     "data": {
      "text/plain": [
       "'COMAP_z2.39-3.44_1140Mpc_seed_13669_rotate_0_subfield_8__Breysse_1.458e-061.061e+00.npz'"
      ]
     },
     "execution_count": 38,
     "metadata": {},
     "output_type": "execute_result"
    }
   ],
   "source": [
    "file_name"
   ]
  },
  {
   "cell_type": "code",
   "execution_count": 57,
   "metadata": {
    "collapsed": false
   },
   "outputs": [
    {
     "name": "stdout",
     "output_type": "stream",
     "text": [
      "COMAP_z2.39-3.44_1140Mpc_seed_13719_rotate_0_subfield_34 \n",
      " Padmanabhan_4.815e+12_-2.070e+00_1.660e-03_7.000e-02_6.221e-01_4.946e-01_7.395e-01_-4.002e-01.npz\n",
      "Padmanabhan [4815000000000.0, -2.07, 0.00166, 0.07, 0.6221, 0.4946, 0.7395, -0.4002]\n"
     ]
    }
   ],
   "source": [
    "test_name = map_names[6]\n",
    "file_name = test_name.split('/')[-1]\n",
    "cat, lum_info = file_name.split('__')\n",
    "\n",
    "lum_list = lum_info[:-4].split('_')\n",
    "model = lum_list[0]\n",
    "coeffs = list(map(float, lum_list[1:]))\n"
   ]
  },
  {
   "cell_type": "code",
   "execution_count": 61,
   "metadata": {
    "collapsed": false
   },
   "outputs": [
    {
     "data": {
      "text/plain": [
       "('Li', [0.07593, 1.449, -4.164, 0.3646, 0.4365])"
      ]
     },
     "execution_count": 61,
     "metadata": {},
     "output_type": "execute_result"
    }
   ],
   "source": [
    "path_to_coeffs(map_names[8])"
   ]
  },
  {
   "cell_type": "code",
   "execution_count": null,
   "metadata": {
    "collapsed": true
   },
   "outputs": [],
   "source": []
  }
 ],
 "metadata": {
  "kernelspec": {
   "display_name": "Python 3",
   "language": "python",
   "name": "python3"
  },
  "language_info": {
   "codemirror_mode": {
    "name": "ipython",
    "version": 3
   },
   "file_extension": ".py",
   "mimetype": "text/x-python",
   "name": "python",
   "nbconvert_exporter": "python",
   "pygments_lexer": "ipython3",
   "version": "3.5.3"
  }
 },
 "nbformat": 4,
 "nbformat_minor": 0
}
