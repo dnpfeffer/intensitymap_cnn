{
 "cells": [
  {
   "cell_type": "markdown",
   "metadata": {},
   "source": [
    "# Base Imports"
   ]
  },
  {
   "cell_type": "code",
   "execution_count": 1,
   "metadata": {
    "collapsed": false
   },
   "outputs": [],
   "source": [
    "% matplotlib inline\n",
    "\n",
    "import matplotlib.pyplot as plt\n",
    "import numpy as np\n",
    "import pickle\n",
    "\n",
    "from limlam_mocker import limlam_mocker as llm\n",
    "#Get Parameters for run\n",
    "from limlam_mocker import params        as params\n",
    "\n",
    "import lnn as lnn\n",
    "\n",
    "%load_ext autoreload"
   ]
  },
  {
   "cell_type": "code",
   "execution_count": 2,
   "metadata": {
    "collapsed": false
   },
   "outputs": [],
   "source": [
    "%autoreload\n",
    "# %autoreload 0\n",
    "#%autoreload 2"
   ]
  },
  {
   "cell_type": "markdown",
   "metadata": {
    "collapsed": true
   },
   "source": [
    "# Setup Learning Environment"
   ]
  },
  {
   "cell_type": "code",
   "execution_count": 3,
   "metadata": {
    "collapsed": false
   },
   "outputs": [],
   "source": [
    "import tensorflow as tf\n",
    "from tensorflow import keras"
   ]
  },
  {
   "cell_type": "code",
   "execution_count": 4,
   "metadata": {
    "collapsed": true
   },
   "outputs": [],
   "source": [
    "mapLoc = '../maps2/test/'\n",
    "catLoc = '../catalogues2/'\n",
    "modelLoc = '../models2/'"
   ]
  },
  {
   "cell_type": "code",
   "execution_count": 5,
   "metadata": {
    "collapsed": true
   },
   "outputs": [],
   "source": [
    "### map info\n",
    "numb_maps = 100\n",
    "pix_x = 256\n",
    "pix_y = 256\n",
    "\n",
    "### output info\n",
    "lum_func_size = 49"
   ]
  },
  {
   "cell_type": "markdown",
   "metadata": {},
   "source": [
    "# Set Up the Model"
   ]
  },
  {
   "cell_type": "code",
   "execution_count": 6,
   "metadata": {
    "collapsed": false
   },
   "outputs": [],
   "source": [
    "model = keras.Sequential()\n",
    "### convolutional layer\n",
    "model.add(keras.layers.Conv2D(32, kernel_size=(5,5), strides=(1,1), activation='relu', input_shape=(pix_x, pix_y, numb_maps)))\n",
    "### pooling layer\n",
    "model.add(keras.layers.MaxPooling2D(pool_size=(2,2), strides=(2,2)))\n",
    "### convolutional layer\n",
    "model.add(keras.layers.Conv2D(64, (5, 5), activation='relu'))\n",
    "### pooling layer\n",
    "model.add(keras.layers.MaxPooling2D(pool_size=(2, 2)))\n",
    "### flatten the network\n",
    "model.add(keras.layers.Flatten())\n",
    "### make a dense layer for the second to last step\n",
    "model.add(keras.layers.Dense(1000, activation='relu'))\n",
    "### finish it off with a dense layer with the number of output we want for our luminosity function\n",
    "model.add(keras.layers.Dense(lum_func_size, activation='linear'))"
   ]
  },
  {
   "cell_type": "code",
   "execution_count": 7,
   "metadata": {
    "collapsed": false
   },
   "outputs": [],
   "source": [
    "model.compile(loss=keras.losses.logcosh, \n",
    "              optimizer=keras.optimizers.SGD(), \n",
    "              metrics=[keras.metrics.mse])"
   ]
  },
  {
   "cell_type": "markdown",
   "metadata": {},
   "source": [
    "# Model 2"
   ]
  },
  {
   "cell_type": "code",
   "execution_count": 8,
   "metadata": {
    "collapsed": false
   },
   "outputs": [],
   "source": [
    "model2 = keras.Sequential()\n",
    "### convolutional layer\n",
    "model2.add(keras.layers.Conv3D(32, kernel_size=(5,5,5), strides=(1,1,1), activation='relu', input_shape=(pix_x, pix_y, numb_maps, 1)))\n",
    "### use a convolution instead of a pool that acts like a pool\n",
    "model2.add(keras.layers.Conv3D(32, kernel_size=(2,2,2), strides=(2,2,2), activation='relu'))\n",
    "### convolutional layer\n",
    "model2.add(keras.layers.Conv3D(64, (5,5,5), activation='relu'))\n",
    "### use a convolution instead of a pool that acts like a pool\n",
    "model2.add(keras.layers.Conv3D(64, kernel_size=(2,2,2), strides=(2,2,2), activation='relu'))\n",
    "### flatten the network\n",
    "model2.add(keras.layers.Flatten())\n",
    "### make a dense layer for the second to last step\n",
    "model2.add(keras.layers.Dense(1000, activation='relu'))\n",
    "### finish it off with a dense layer with the number of output we want for our luminosity function\n",
    "model2.add(keras.layers.Dense(lum_func_size, activation='linear'))"
   ]
  },
  {
   "cell_type": "code",
   "execution_count": 9,
   "metadata": {
    "collapsed": true
   },
   "outputs": [],
   "source": [
    "model2.compile(loss=keras.losses.logcosh, \n",
    "              optimizer=keras.optimizers.SGD(), \n",
    "              metrics=[keras.metrics.mse])"
   ]
  },
  {
   "cell_type": "markdown",
   "metadata": {},
   "source": [
    "# Load Model"
   ]
  },
  {
   "cell_type": "code",
   "execution_count": 31,
   "metadata": {
    "collapsed": false
   },
   "outputs": [],
   "source": [
    "model2 = keras.models.load_model(modelLoc + 'my_model_gpu_2.hdf5')"
   ]
  },
  {
   "cell_type": "code",
   "execution_count": 32,
   "metadata": {
    "collapsed": false
   },
   "outputs": [
    {
     "data": {
      "text/plain": [
       "[<tensorflow.python.keras.layers.convolutional.Conv3D at 0x7f6c963f5f28>,\n",
       " <tensorflow.python.keras.layers.pooling.MaxPooling3D at 0x7f6c8ff39b00>,\n",
       " <tensorflow.python.keras.layers.convolutional.Conv3D at 0x7f6c8ff0a710>,\n",
       " <tensorflow.python.keras.layers.pooling.MaxPooling3D at 0x7f6c8ce0c400>,\n",
       " <tensorflow.python.keras.layers.convolutional.Conv3D at 0x7f6c8cc8d2e8>,\n",
       " <tensorflow.python.keras.layers.pooling.MaxPooling3D at 0x7f6c8cca50f0>,\n",
       " <tensorflow.python.keras.layers.convolutional.Conv3D at 0x7f6c8cca5860>,\n",
       " <tensorflow.python.keras.layers.pooling.MaxPooling3D at 0x7f6c8ccb8b00>,\n",
       " <tensorflow.python.keras.layers.core.Flatten at 0x7f6c8cc5b198>,\n",
       " <tensorflow.python.keras.layers.core.Dense at 0x7f6c8cc5bd30>,\n",
       " <tensorflow.python.keras.layers.core.Dense at 0x7f6c8cc76358>]"
      ]
     },
     "execution_count": 32,
     "metadata": {},
     "output_type": "execute_result"
    }
   ],
   "source": [
    "model2.layers"
   ]
  },
  {
   "cell_type": "code",
   "execution_count": 8,
   "metadata": {
    "collapsed": false
   },
   "outputs": [],
   "source": [
    "model2 = keras.models.load_model(modelLoc + 'my_model_gpu_2_temp.hdf5')"
   ]
  },
  {
   "cell_type": "code",
   "execution_count": 9,
   "metadata": {
    "collapsed": false,
    "scrolled": true
   },
   "outputs": [
    {
     "data": {
      "text/plain": [
       "[<tensorflow.python.keras.layers.convolutional.Conv3D at 0x7f29da6be0f0>,\n",
       " <tensorflow.python.keras.layers.pooling.MaxPooling3D at 0x7f29da6be470>,\n",
       " <tensorflow.python.keras.layers.convolutional.Conv3D at 0x7f29da6be978>,\n",
       " <tensorflow.python.keras.layers.pooling.MaxPooling3D at 0x7f29da6dff60>,\n",
       " <tensorflow.python.keras.layers.convolutional.Conv3D at 0x7f29da688fd0>,\n",
       " <tensorflow.python.keras.layers.pooling.MaxPooling3D at 0x7f29da69e198>,\n",
       " <tensorflow.python.keras.layers.convolutional.Conv3D at 0x7f29da69ecf8>,\n",
       " <tensorflow.python.keras.layers.pooling.MaxPooling3D at 0x7f29da65f160>,\n",
       " <tensorflow.python.keras.layers.core.Flatten at 0x7f29da65fbe0>,\n",
       " <tensorflow.python.keras.layers.core.Dense at 0x7f29da65f860>,\n",
       " <tensorflow.python.keras.layers.core.Dense at 0x7f29da66cc88>]"
      ]
     },
     "execution_count": 9,
     "metadata": {},
     "output_type": "execute_result"
    }
   ],
   "source": [
    "model2.layers"
   ]
  },
  {
   "cell_type": "code",
   "execution_count": 60,
   "metadata": {
    "collapsed": true
   },
   "outputs": [],
   "source": [
    "model2 = keras.models.load_model(modelLoc + 'my_model_full_lum_gpu.hdf5')"
   ]
  },
  {
   "cell_type": "code",
   "execution_count": 61,
   "metadata": {
    "collapsed": false
   },
   "outputs": [],
   "source": [
    "with open(modelLoc + 'my_model_full_lum_gpu_history', 'rb') as pickle_file:\n",
    "    history = pickle.load(pickle_file)"
   ]
  },
  {
   "cell_type": "code",
   "execution_count": 62,
   "metadata": {
    "collapsed": false
   },
   "outputs": [
    {
     "data": {
      "text/plain": [
       "[<tensorflow.python.keras.layers.convolutional.Conv3D at 0x7f6c7078da90>,\n",
       " <tensorflow.python.keras.layers.pooling.MaxPooling3D at 0x7f6c7078dda0>,\n",
       " <tensorflow.python.keras.layers.convolutional.Conv3D at 0x7f6c707b8dd8>,\n",
       " <tensorflow.python.keras.layers.pooling.MaxPooling3D at 0x7f6c786fe358>,\n",
       " <tensorflow.python.keras.layers.convolutional.Conv3D at 0x7f6c786fecf8>,\n",
       " <tensorflow.python.keras.layers.pooling.MaxPooling3D at 0x7f6c707e6d30>,\n",
       " <tensorflow.python.keras.layers.convolutional.Conv3D at 0x7f6c707de2e8>,\n",
       " <tensorflow.python.keras.layers.pooling.MaxPooling3D at 0x7f6c38795588>,\n",
       " <tensorflow.python.keras.layers.core.Flatten at 0x7f6c38795da0>,\n",
       " <tensorflow.python.keras.layers.core.Dense at 0x7f6c387aea90>,\n",
       " <tensorflow.python.keras.layers.core.Dense at 0x7f6c38795978>]"
      ]
     },
     "execution_count": 62,
     "metadata": {},
     "output_type": "execute_result"
    }
   ],
   "source": [
    "model2.layers"
   ]
  },
  {
   "cell_type": "code",
   "execution_count": 76,
   "metadata": {
    "collapsed": false
   },
   "outputs": [
    {
     "data": {
      "text/plain": [
       "[<tensorflow.python.keras.layers.convolutional.Conv3D at 0x7f6ba87c5470>,\n",
       " <tensorflow.python.keras.layers.pooling.MaxPooling3D at 0x7f6ba87c57b8>,\n",
       " <tensorflow.python.keras.layers.convolutional.Conv3D at 0x7f6ba87c5d30>,\n",
       " <tensorflow.python.keras.layers.pooling.MaxPooling3D at 0x7f6ba87cdfd0>,\n",
       " <tensorflow.python.keras.layers.convolutional.Conv3D at 0x7f6ba877d438>,\n",
       " <tensorflow.python.keras.layers.pooling.MaxPooling3D at 0x7f6ba878f6d8>,\n",
       " <tensorflow.python.keras.layers.convolutional.Conv3D at 0x7f6ba878feb8>,\n",
       " <tensorflow.python.keras.layers.pooling.MaxPooling3D at 0x7f6ba87a3f60>,\n",
       " <tensorflow.python.keras.layers.convolutional.Conv3D at 0x7f6ba87464a8>,\n",
       " <tensorflow.python.keras.layers.pooling.MaxPooling3D at 0x7f6ba8759748>,\n",
       " <tensorflow.python.keras.layers.core.Flatten at 0x7f6ba8759d30>,\n",
       " <tensorflow.python.keras.layers.core.Dense at 0x7f6ba8759160>,\n",
       " <tensorflow.python.keras.layers.core.Dense at 0x7f6ba8746f98>]"
      ]
     },
     "execution_count": 76,
     "metadata": {},
     "output_type": "execute_result"
    }
   ],
   "source": [
    "model_5_layer = keras.models.load_model(modelLoc + 'my_model_full_lum_gpu_5_layer_temp.hdf5')\n",
    "model_5_layer.layers"
   ]
  },
  {
   "cell_type": "code",
   "execution_count": 77,
   "metadata": {
    "collapsed": false
   },
   "outputs": [
    {
     "data": {
      "text/plain": [
       "<tf.Tensor 'conv3d_4_1/Relu:0' shape=(?, 8, 8, 2, 512) dtype=float32>"
      ]
     },
     "execution_count": 77,
     "metadata": {},
     "output_type": "execute_result"
    }
   ],
   "source": [
    "model_5_layer.layers[9].input"
   ]
  },
  {
   "cell_type": "markdown",
   "metadata": {
    "collapsed": true
   },
   "source": [
    "# Start Training the Network"
   ]
  },
  {
   "cell_type": "code",
   "execution_count": 10,
   "metadata": {
    "collapsed": false
   },
   "outputs": [],
   "source": [
    "### number of maps to look at in a batch\n",
    "batch_size = 100\n",
    "steps_per_epoch = 5\n",
    "epochs = 10\n",
    "\n",
    "subFields = lnn.loadBaseFNames(mapLoc)\n",
    "base = [mapLoc + s for s in subFields]\n",
    "\n",
    "dataset = tf.data.Dataset.from_tensor_slices(tf.convert_to_tensor(base))\n",
    "dataset = dataset.shuffle(buffer_size=len(base))\n",
    "dataset = dataset.map(lambda item: tuple(tf.py_func(lnn.utf8FileToMapAndLum, [item], [tf.float64, tf.float64])))\n",
    "dataset = dataset.repeat()\n",
    "dataset = dataset.batch(batch_size)"
   ]
  },
  {
   "cell_type": "code",
   "execution_count": 16,
   "metadata": {
    "collapsed": false
   },
   "outputs": [
    {
     "name": "stdout",
     "output_type": "stream",
     "text": [
      "Epoch 1/10\n",
      "5/5 [==============================] - 432s 86s/step - loss: 4.2342 - mean_squared_error: 26.3019\n",
      "Epoch 2/10\n",
      "5/5 [==============================] - 434s 87s/step - loss: 4.2319 - mean_squared_error: 26.2792\n",
      "Epoch 3/10\n",
      "5/5 [==============================] - 442s 88s/step - loss: 4.2325 - mean_squared_error: 26.2876\n",
      "Epoch 4/10\n",
      "5/5 [==============================] - 440s 88s/step - loss: 4.2305 - mean_squared_error: 26.2651\n",
      "Epoch 5/10\n",
      "5/5 [==============================] - 441s 88s/step - loss: 4.2284 - mean_squared_error: 26.2510\n",
      "Epoch 6/10\n",
      "5/5 [==============================] - 435s 87s/step - loss: 4.2267 - mean_squared_error: 26.2265\n",
      "Epoch 7/10\n",
      "5/5 [==============================] - 448s 90s/step - loss: 4.2258 - mean_squared_error: 26.2198\n",
      "Epoch 8/10\n",
      "5/5 [==============================] - 445s 89s/step - loss: 4.2249 - mean_squared_error: 26.2079\n",
      "Epoch 9/10\n",
      "5/5 [==============================] - 443s 89s/step - loss: 4.2232 - mean_squared_error: 26.1965\n",
      "Epoch 10/10\n",
      "5/5 [==============================] - 434s 87s/step - loss: 4.2204 - mean_squared_error: 26.1613\n"
     ]
    },
    {
     "data": {
      "text/plain": [
       "<tensorflow.python.keras.callbacks.History at 0x7fd33470c710>"
      ]
     },
     "execution_count": 16,
     "metadata": {},
     "output_type": "execute_result"
    }
   ],
   "source": [
    "model.fit(dataset, epochs=epochs, steps_per_epoch=steps_per_epoch, verbose=1)"
   ]
  },
  {
   "cell_type": "code",
   "execution_count": 27,
   "metadata": {
    "collapsed": true
   },
   "outputs": [],
   "source": [
    "model.save('my_model.h5')"
   ]
  },
  {
   "cell_type": "code",
   "execution_count": null,
   "metadata": {
    "collapsed": true
   },
   "outputs": [],
   "source": []
  },
  {
   "cell_type": "code",
   "execution_count": 32,
   "metadata": {
    "collapsed": true
   },
   "outputs": [],
   "source": [
    "### number of maps to look at in a batch\n",
    "batch_size = 1\n",
    "steps_per_epoch = 1\n",
    "epochs = 1\n",
    "\n",
    "subFields = lnn.loadBaseFNames(mapLoc)\n",
    "base = [mapLoc + s for s in subFields]\n",
    "\n",
    "dataset = tf.data.Dataset.from_tensor_slices(tf.convert_to_tensor(base))\n",
    "dataset = dataset.shuffle(buffer_size=len(base))\n",
    "dataset = dataset.map(lambda item: tuple(tf.py_func(lnn.utf8FileToMapAndLum3D, [item], [tf.float64, tf.float64])))\n",
    "dataset = dataset.repeat()\n",
    "dataset = dataset.batch(batch_size)"
   ]
  },
  {
   "cell_type": "code",
   "execution_count": 34,
   "metadata": {
    "collapsed": false
   },
   "outputs": [
    {
     "name": "stdout",
     "output_type": "stream",
     "text": [
      "Epoch 1/1\n",
      "1/1 [==============================] - 68s 68s/step - loss: 0.0065 - mean_squared_error: 0.0131\n"
     ]
    }
   ],
   "source": [
    "history = model2.fit(dataset, epochs=epochs, steps_per_epoch=steps_per_epoch, verbose=1)"
   ]
  },
  {
   "cell_type": "code",
   "execution_count": 15,
   "metadata": {
    "collapsed": true
   },
   "outputs": [],
   "source": [
    "model2.save('my_model2.h5')"
   ]
  },
  {
   "cell_type": "code",
   "execution_count": 14,
   "metadata": {
    "collapsed": false
   },
   "outputs": [
    {
     "name": "stdout",
     "output_type": "stream",
     "text": [
      "Epoch 1/5\n",
      "5/5 [==============================] - 1790s 358s/step - loss: 4.0312 - mean_squared_error: 24.3023\n",
      "Epoch 2/5\n",
      "5/5 [==============================] - 1811s 362s/step - loss: 2.9661 - mean_squared_error: 17.2210\n",
      "Epoch 3/5\n",
      "5/5 [==============================] - 1868s 374s/step - loss: 3.2975 - mean_squared_error: 19.5987\n",
      "Epoch 4/5\n",
      "5/5 [==============================] - 1812s 362s/step - loss: 1.8060 - mean_squared_error: 8.0837\n",
      "Epoch 5/5\n",
      "5/5 [==============================] - 1802s 360s/step - loss: 1.6294 - mean_squared_error: 6.6302\n"
     ]
    },
    {
     "data": {
      "text/plain": [
       "<tensorflow.python.keras.callbacks.History at 0x7f5d27c3e278>"
      ]
     },
     "execution_count": 14,
     "metadata": {},
     "output_type": "execute_result"
    }
   ],
   "source": [
    "model2.fit(dataset, epochs=epochs, steps_per_epoch=steps_per_epoch, verbose=1)"
   ]
  },
  {
   "cell_type": "markdown",
   "metadata": {},
   "source": [
    "# See How Good the Model Is"
   ]
  },
  {
   "cell_type": "code",
   "execution_count": 8,
   "metadata": {
    "collapsed": false
   },
   "outputs": [],
   "source": [
    "subFields = lnn.loadBaseFNames(mapLoc)\n",
    "base = [mapLoc + s for s in subFields]\n",
    "lumLogBinCents = lnn.loadData(base[152] + '_lum.npz')['logBinCent']"
   ]
  },
  {
   "cell_type": "code",
   "execution_count": 14,
   "metadata": {
    "collapsed": false
   },
   "outputs": [
    {
     "ename": "ValueError",
     "evalue": "Error when checking input: expected conv3d_input to have 5 dimensions, but got array with shape (1, 256, 256, 100)",
     "output_type": "error",
     "traceback": [
      "\u001b[0;31m---------------------------------------------------------------------------\u001b[0m",
      "\u001b[0;31mValueError\u001b[0m                                Traceback (most recent call last)",
      "\u001b[0;32m<ipython-input-14-a08b1da9b4f5>\u001b[0m in \u001b[0;36m<module>\u001b[0;34m()\u001b[0m\n\u001b[1;32m      4\u001b[0m \u001b[0mbaseLum2\u001b[0m \u001b[0;34m=\u001b[0m \u001b[0mnp\u001b[0m\u001b[0;34m.\u001b[0m\u001b[0mexpand_dims\u001b[0m\u001b[0;34m(\u001b[0m\u001b[0mtestLum\u001b[0m\u001b[0;34m,\u001b[0m \u001b[0maxis\u001b[0m\u001b[0;34m=\u001b[0m\u001b[0;36m0\u001b[0m\u001b[0;34m)\u001b[0m\u001b[0;34m\u001b[0m\u001b[0m\n\u001b[1;32m      5\u001b[0m \u001b[0;34m\u001b[0m\u001b[0m\n\u001b[0;32m----> 6\u001b[0;31m \u001b[0mnewLum\u001b[0m \u001b[0;34m=\u001b[0m \u001b[0mmodel2\u001b[0m\u001b[0;34m.\u001b[0m\u001b[0mpredict\u001b[0m\u001b[0;34m(\u001b[0m\u001b[0mtf\u001b[0m\u001b[0;34m.\u001b[0m\u001b[0mconvert_to_tensor\u001b[0m\u001b[0;34m(\u001b[0m\u001b[0mbaseMap2\u001b[0m\u001b[0;34m)\u001b[0m\u001b[0;34m,\u001b[0m \u001b[0msteps\u001b[0m\u001b[0;34m=\u001b[0m\u001b[0;36m1\u001b[0m\u001b[0;34m)\u001b[0m\u001b[0;34m\u001b[0m\u001b[0m\n\u001b[0m\u001b[1;32m      7\u001b[0m \u001b[0mmodel2\u001b[0m\u001b[0;34m.\u001b[0m\u001b[0mevaluate\u001b[0m\u001b[0;34m(\u001b[0m\u001b[0mtf\u001b[0m\u001b[0;34m.\u001b[0m\u001b[0mconvert_to_tensor\u001b[0m\u001b[0;34m(\u001b[0m\u001b[0mbaseMap2\u001b[0m\u001b[0;34m)\u001b[0m\u001b[0;34m,\u001b[0m \u001b[0mtf\u001b[0m\u001b[0;34m.\u001b[0m\u001b[0mconvert_to_tensor\u001b[0m\u001b[0;34m(\u001b[0m\u001b[0mbaseLum2\u001b[0m\u001b[0;34m)\u001b[0m\u001b[0;34m,\u001b[0m \u001b[0msteps\u001b[0m\u001b[0;34m=\u001b[0m\u001b[0;36m1\u001b[0m\u001b[0;34m,\u001b[0m \u001b[0mverbose\u001b[0m\u001b[0;34m=\u001b[0m\u001b[0;36m1\u001b[0m\u001b[0;34m)\u001b[0m\u001b[0;34m\u001b[0m\u001b[0m\n",
      "\u001b[0;32m/home/dpfeffe2/anaconda3/lib/python3.5/site-packages/tensorflow/python/keras/engine/training.py\u001b[0m in \u001b[0;36mpredict\u001b[0;34m(self, x, batch_size, verbose, steps)\u001b[0m\n\u001b[1;32m   1484\u001b[0m     \u001b[0;31m# Validate and standardize user data.\u001b[0m\u001b[0;34m\u001b[0m\u001b[0;34m\u001b[0m\u001b[0m\n\u001b[1;32m   1485\u001b[0m     x, _, _ = self._standardize_user_data(\n\u001b[0;32m-> 1486\u001b[0;31m         x, check_steps=True, steps_name='steps', steps=steps)\n\u001b[0m\u001b[1;32m   1487\u001b[0m \u001b[0;34m\u001b[0m\u001b[0m\n\u001b[1;32m   1488\u001b[0m     \u001b[0;32mif\u001b[0m \u001b[0mcontext\u001b[0m\u001b[0;34m.\u001b[0m\u001b[0mexecuting_eagerly\u001b[0m\u001b[0;34m(\u001b[0m\u001b[0;34m)\u001b[0m\u001b[0;34m:\u001b[0m\u001b[0;34m\u001b[0m\u001b[0m\n",
      "\u001b[0;32m/home/dpfeffe2/anaconda3/lib/python3.5/site-packages/tensorflow/python/keras/engine/training.py\u001b[0m in \u001b[0;36m_standardize_user_data\u001b[0;34m(self, x, y, sample_weight, class_weight, batch_size, check_steps, steps_name, steps, validation_split)\u001b[0m\n\u001b[1;32m    876\u001b[0m         \u001b[0mfeed_input_shapes\u001b[0m\u001b[0;34m,\u001b[0m\u001b[0;34m\u001b[0m\u001b[0m\n\u001b[1;32m    877\u001b[0m         \u001b[0mcheck_batch_axis\u001b[0m\u001b[0;34m=\u001b[0m\u001b[0;32mFalse\u001b[0m\u001b[0;34m,\u001b[0m  \u001b[0;31m# Don't enforce the batch size.\u001b[0m\u001b[0;34m\u001b[0m\u001b[0m\n\u001b[0;32m--> 878\u001b[0;31m         exception_prefix='input')\n\u001b[0m\u001b[1;32m    879\u001b[0m \u001b[0;34m\u001b[0m\u001b[0m\n\u001b[1;32m    880\u001b[0m     \u001b[0;32mif\u001b[0m \u001b[0my\u001b[0m \u001b[0;32mis\u001b[0m \u001b[0;32mnot\u001b[0m \u001b[0;32mNone\u001b[0m\u001b[0;34m:\u001b[0m\u001b[0;34m\u001b[0m\u001b[0m\n",
      "\u001b[0;32m/home/dpfeffe2/anaconda3/lib/python3.5/site-packages/tensorflow/python/keras/engine/training_utils.py\u001b[0m in \u001b[0;36mstandardize_input_data\u001b[0;34m(data, names, shapes, check_batch_axis, exception_prefix)\u001b[0m\n\u001b[1;32m    180\u001b[0m                            \u001b[0;34m': expected '\u001b[0m \u001b[0;34m+\u001b[0m \u001b[0mnames\u001b[0m\u001b[0;34m[\u001b[0m\u001b[0mi\u001b[0m\u001b[0;34m]\u001b[0m \u001b[0;34m+\u001b[0m \u001b[0;34m' to have '\u001b[0m \u001b[0;34m+\u001b[0m\u001b[0;34m\u001b[0m\u001b[0m\n\u001b[1;32m    181\u001b[0m                            \u001b[0mstr\u001b[0m\u001b[0;34m(\u001b[0m\u001b[0mlen\u001b[0m\u001b[0;34m(\u001b[0m\u001b[0mshape\u001b[0m\u001b[0;34m)\u001b[0m\u001b[0;34m)\u001b[0m \u001b[0;34m+\u001b[0m \u001b[0;34m' dimensions, but got array '\u001b[0m\u001b[0;34m\u001b[0m\u001b[0m\n\u001b[0;32m--> 182\u001b[0;31m                            'with shape ' + str(data_shape))\n\u001b[0m\u001b[1;32m    183\u001b[0m         \u001b[0;32mif\u001b[0m \u001b[0;32mnot\u001b[0m \u001b[0mcheck_batch_axis\u001b[0m\u001b[0;34m:\u001b[0m\u001b[0;34m\u001b[0m\u001b[0m\n\u001b[1;32m    184\u001b[0m           \u001b[0mdata_shape\u001b[0m \u001b[0;34m=\u001b[0m \u001b[0mdata_shape\u001b[0m\u001b[0;34m[\u001b[0m\u001b[0;36m1\u001b[0m\u001b[0;34m:\u001b[0m\u001b[0;34m]\u001b[0m\u001b[0;34m\u001b[0m\u001b[0m\n",
      "\u001b[0;31mValueError\u001b[0m: Error when checking input: expected conv3d_input to have 5 dimensions, but got array with shape (1, 256, 256, 100)"
     ]
    }
   ],
   "source": [
    "testMap = lnn.fileToMapData(base[152] + '_map.npz')\n",
    "testLum = lnn.logLumFunc(lnn.fileToLum(base[152] + '_lum.npz'))\n",
    "baseMap2 = np.expand_dims(testMap, axis=0)\n",
    "baseLum2 = np.expand_dims(testLum, axis=0)\n",
    "\n",
    "newLum = model2.predict(tf.convert_to_tensor(baseMap2), steps=1)\n",
    "model2.evaluate(tf.convert_to_tensor(baseMap2), tf.convert_to_tensor(baseLum2), steps=1, verbose=1)"
   ]
  },
  {
   "cell_type": "code",
   "execution_count": 36,
   "metadata": {
    "collapsed": false
   },
   "outputs": [
    {
     "data": {
      "text/plain": [
       "[<matplotlib.lines.Line2D at 0x7fd2f4491748>]"
      ]
     },
     "execution_count": 36,
     "metadata": {},
     "output_type": "execute_result"
    },
    {
     "data": {
      "image/png": "[encoded data removed]",
      "text/plain": [
       "<matplotlib.figure.Figure at 0x7fd2f44b9320>"
      ]
     },
     "metadata": {},
     "output_type": "display_data"
    }
   ],
   "source": [
    "plt.plot(newLum[0])"
   ]
  },
  {
   "cell_type": "code",
   "execution_count": 39,
   "metadata": {
    "collapsed": false
   },
   "outputs": [
    {
     "data": {
      "text/plain": [
       "<matplotlib.text.Text at 0x7f5c8c75eb00>"
      ]
     },
     "execution_count": 39,
     "metadata": {},
     "output_type": "execute_result"
    },
    {
     "data": {
      "image/png": "[encoded data removed]",
      "text/plain": [
       "<matplotlib.figure.Figure at 0x7f5cac7698d0>"
      ]
     },
     "metadata": {},
     "output_type": "display_data"
    }
   ],
   "source": [
    "plt.semilogx(lumLogBinCents, testLum)\n",
    "plt.title('Simulated')\n",
    "plt.xlabel('L (L_sun)')\n",
    "plt.ylabel('Log10(dN/dL)')"
   ]
  },
  {
   "cell_type": "code",
   "execution_count": null,
   "metadata": {
    "collapsed": false
   },
   "outputs": [],
   "source": []
  },
  {
   "cell_type": "code",
   "execution_count": 50,
   "metadata": {
    "collapsed": false
   },
   "outputs": [
    {
     "name": "stdout",
     "output_type": "stream",
     "text": [
      "\r",
      "1/1 [==============================] - 2s 2s/step\n"
     ]
    },
    {
     "data": {
      "text/plain": [
       "[0.0049522821791470051, 0.010024302639067173]"
      ]
     },
     "execution_count": 50,
     "metadata": {},
     "output_type": "execute_result"
    }
   ],
   "source": [
    "'testMap = lnn.fileToMapData(base[750] + '_map.npz')\n",
    "testLum = lnn.logLumFunc(lnn.fileToLum(base[750] + '_lum.npz'))\n",
    "\n",
    "testMap = testMap.reshape(len(testMap), len(testMap[0]), len(testMap[0][0]), 1)\n",
    "\n",
    "baseMap2 = np.expand_dims(testMap, axis=0)\n",
    "# baseMap2 = np.expand_dims(baseMap2, axis=0)\n",
    "baseLum2 = np.expand_dims(testLum, axis=0)\n",
    "\n",
    "newLum = model2.predict(tf.convert_to_tensor(baseMap2), steps=1)\n",
    "model2.evaluate(tf.convert_to_tensor(baseMap2), tf.convert_to_tensor(baseLum2), steps=1, verbose=1)'"
   ]
  },
  {
   "cell_type": "code",
   "execution_count": 51,
   "metadata": {
    "collapsed": false
   },
   "outputs": [
    {
     "data": {
      "text/plain": [
       "<matplotlib.text.Text at 0x7f6c805327b8>"
      ]
     },
     "execution_count": 51,
     "metadata": {},
     "output_type": "execute_result"
    },
    {
     "data": {
      "image/png": "[encoded data removed]",
      "text/plain": [
       "<matplotlib.figure.Figure at 0x7f6c8c4bc8d0>"
      ]
     },
     "metadata": {},
     "output_type": "display_data"
    }
   ],
   "source": [
    "plt.semilogx(lumLogBinCents, newLum[0], label='CNN')\n",
    "plt.semilogx(lumLogBinCents, testLum, label='Simulated')\n",
    "plt.legend()\n",
    "plt.title('CNN Result')\n",
    "plt.xlabel('L (L_sun)')\n",
    "plt.ylabel('Log10(dN/dL)')"
   ]
  },
  {
   "cell_type": "code",
   "execution_count": 52,
   "metadata": {
    "collapsed": false
   },
   "outputs": [
    {
     "name": "stderr",
     "output_type": "stream",
     "text": [
      "/home/dpfeffe2/anaconda3/lib/python3.5/site-packages/ipykernel_launcher.py:1: RuntimeWarning: divide by zero encountered in true_divide\n",
      "  \"\"\"Entry point for launching an IPython kernel.\n"
     ]
    },
    {
     "data": {
      "text/plain": [
       "(1, 10000000)"
      ]
     },
     "execution_count": 52,
     "metadata": {},
     "output_type": "execute_result"
    },
    {
     "data": {
      "image/png": "[encoded data removed]",
      "text/plain": [
       "<matplotlib.figure.Figure at 0x7f6c8c228ba8>"
      ]
     },
     "metadata": {},
     "output_type": "display_data"
    }
   ],
   "source": [
    "plt.semilogx(lumLogBinCents, newLum[0]/testLum)\n",
    "plt.title('CNN Result')\n",
    "plt.xlabel('L (L_sun)')\n",
    "plt.ylabel('Log10(dN/dL)_CNN/Log10(dN/dL)_Sim')\n",
    "plt.xlim([1, 10**7])\n",
    "# plt.ylim([0.98, 1.05])"
   ]
  },
  {
   "cell_type": "code",
   "execution_count": 57,
   "metadata": {
    "collapsed": false
   },
   "outputs": [
    {
     "name": "stderr",
     "output_type": "stream",
     "text": [
      "/home/dpfeffe2/anaconda3/lib/python3.5/site-packages/ipykernel_launcher.py:1: RuntimeWarning: divide by zero encountered in true_divide\n",
      "  \"\"\"Entry point for launching an IPython kernel.\n"
     ]
    },
    {
     "data": {
      "text/plain": [
       "(0.98, 1.03)"
      ]
     },
     "execution_count": 57,
     "metadata": {},
     "output_type": "execute_result"
    },
    {
     "data": {
      "image/png": "[encoded data removed]",
      "text/plain": [
       "<matplotlib.figure.Figure at 0x7f6c7067ada0>"
      ]
     },
     "metadata": {},
     "output_type": "display_data"
    }
   ],
   "source": [
    "plt.semilogx(lumLogBinCents, newLum[0]/testLum)\n",
    "plt.title('CNN Result')\n",
    "plt.xlabel('L (L_sun)')\n",
    "plt.ylabel('Log10(dN/dL)_CNN/Log10(dN/dL)_Sim')\n",
    "plt.xlim([1, 10**6])\n",
    "plt.ylim([0.98, 1.03])"
   ]
  },
  {
   "cell_type": "code",
   "execution_count": 53,
   "metadata": {
    "collapsed": false
   },
   "outputs": [
    {
     "data": {
      "text/plain": [
       "<matplotlib.text.Text at 0x7f6c787f05f8>"
      ]
     },
     "execution_count": 53,
     "metadata": {},
     "output_type": "execute_result"
    },
    {
     "data": {
      "image/png": "[encoded data removed]",
      "text/plain": [
       "<matplotlib.figure.Figure at 0x7f6c8c4a7b70>"
      ]
     },
     "metadata": {},
     "output_type": "display_data"
    }
   ],
   "source": [
    "cnnLum = np.array([10**x for x in newLum[0]])\n",
    "realLum = np.array([10**x for x in testLum])\n",
    "\n",
    "plt.loglog(lumLogBinCents, cnnLum, label='CNN')\n",
    "plt.loglog(lumLogBinCents, realLum, label='Simulated')\n",
    "plt.legend()\n",
    "plt.title('CNN Result')\n",
    "plt.xlabel('L (L_sun)')\n",
    "plt.ylabel('dN/dL')"
   ]
  },
  {
   "cell_type": "code",
   "execution_count": 54,
   "metadata": {
    "collapsed": false
   },
   "outputs": [
    {
     "data": {
      "text/plain": [
       "(1, 10000000)"
      ]
     },
     "execution_count": 54,
     "metadata": {},
     "output_type": "execute_result"
    },
    {
     "data": {
      "image/png": "[encoded data removed]",
      "text/plain": [
       "<matplotlib.figure.Figure at 0x7f6c8c544b38>"
      ]
     },
     "metadata": {},
     "output_type": "display_data"
    }
   ],
   "source": [
    "plt.semilogx(lumLogBinCents, cnnLum/realLum)\n",
    "plt.title('CNN Result')\n",
    "plt.xlabel('L (L_sun)')\n",
    "plt.ylabel('dN/dL_CNN/dN/dL_Sim')\n",
    "plt.xlim([1, 10**7])\n",
    "# plt.ylim([0.90, 1.10])"
   ]
  },
  {
   "cell_type": "code",
   "execution_count": 59,
   "metadata": {
    "collapsed": false
   },
   "outputs": [
    {
     "data": {
      "text/plain": [
       "(0.9, 1.3)"
      ]
     },
     "execution_count": 59,
     "metadata": {},
     "output_type": "execute_result"
    },
    {
     "data": {
      "image/png": "[encoded data removed]",
      "text/plain": [
       "<matplotlib.figure.Figure at 0x7f6c80594fd0>"
      ]
     },
     "metadata": {},
     "output_type": "display_data"
    }
   ],
   "source": [
    "plt.semilogx(lumLogBinCents, cnnLum/realLum)\n",
    "plt.title('CNN Result')\n",
    "plt.xlabel('L (L_sun)')\n",
    "plt.ylabel('dN/dL_CNN/dN/dL_Sim')\n",
    "plt.xlim([1, 10**6])\n",
    "plt.ylim([0.90, 1.3])"
   ]
  },
  {
   "cell_type": "code",
   "execution_count": 37,
   "metadata": {
    "collapsed": false
   },
   "outputs": [
    {
     "name": "stdout",
     "output_type": "stream",
     "text": [
      "\r",
      "1/1 [==============================] - 7s 7s/step\n"
     ]
    },
    {
     "data": {
      "text/plain": [
       "[0.57242500782012939, 1.423541784286499]"
      ]
     },
     "execution_count": 37,
     "metadata": {},
     "output_type": "execute_result"
    }
   ],
   "source": [
    "testMap = lnn.fileToMapData(base[753] + '_map.npz')\n",
    "testLum = lnn.logLumFunc(lnn.fileToLum(base[753] + '_lum.npz'))\n",
    "\n",
    "testMap = testMap.reshape(len(testMap), len(testMap[0]), len(testMap[0][0]), 1)\n",
    "\n",
    "baseMap2 = np.expand_dims(testMap, axis=0)\n",
    "# baseMap2 = np.expand_dims(baseMap2, axis=0)\n",
    "baseLum2 = np.expand_dims(testLum, axis=0)\n",
    "\n",
    "newLum = model2.predict(tf.convert_to_tensor(baseMap2), steps=1)\n",
    "model2.evaluate(tf.convert_to_tensor(baseMap2), tf.convert_to_tensor(baseLum2), steps=1, verbose=1)"
   ]
  },
  {
   "cell_type": "code",
   "execution_count": 38,
   "metadata": {
    "collapsed": false
   },
   "outputs": [
    {
     "data": {
      "text/plain": [
       "<matplotlib.text.Text at 0x7f5c6c7f1a20>"
      ]
     },
     "execution_count": 38,
     "metadata": {},
     "output_type": "execute_result"
    },
    {
     "data": {
      "image/png": "[encoded data removed]",
      "text/plain": [
       "<matplotlib.figure.Figure at 0x7f5c8c6bf7b8>"
      ]
     },
     "metadata": {},
     "output_type": "display_data"
    }
   ],
   "source": [
    "plt.semilogx(lumLogBinCents, newLum[0])\n",
    "plt.xlabel('L (L_sun)')\n",
    "plt.ylabel('Log10(dN/dL)')"
   ]
  },
  {
   "cell_type": "markdown",
   "metadata": {},
   "source": [
    "# Test CNN of full lum func"
   ]
  },
  {
   "cell_type": "code",
   "execution_count": 63,
   "metadata": {
    "collapsed": true
   },
   "outputs": [],
   "source": [
    "subFields = lnn.loadBaseFNames(mapLoc)\n",
    "base = [mapLoc + s for s in subFields]\n",
    "lumLogBinCents = lnn.loadData(base[750] + '_lum.npz')['logBinCent']"
   ]
  },
  {
   "cell_type": "code",
   "execution_count": 64,
   "metadata": {
    "collapsed": false
   },
   "outputs": [
    {
     "name": "stdout",
     "output_type": "stream",
     "text": [
      "\r",
      "1/1 [==============================] - 2s 2s/step\n"
     ]
    },
    {
     "data": {
      "text/plain": [
       "[8.7718696594238281, 324348280832.0]"
      ]
     },
     "execution_count": 64,
     "metadata": {},
     "output_type": "execute_result"
    }
   ],
   "source": [
    "testMap = lnn.fileToMapData(base[750] + '_map.npz')\n",
    "testLum = lnn.justLumFunc(lnn.fileToLum(base[750] + '_lum.npz'))\n",
    "\n",
    "testMap = testMap.reshape(len(testMap), len(testMap[0]), len(testMap[0][0]), 1)\n",
    "\n",
    "baseMap2 = np.expand_dims(testMap, axis=0)\n",
    "# baseMap2 = np.expand_dims(baseMap2, axis=0)\n",
    "baseLum2 = np.expand_dims(testLum, axis=0)\n",
    "\n",
    "newLum = model2.predict(tf.convert_to_tensor(baseMap2), steps=1)\n",
    "model2.evaluate(tf.convert_to_tensor(baseMap2), tf.convert_to_tensor(baseLum2), steps=1, verbose=1)"
   ]
  },
  {
   "cell_type": "code",
   "execution_count": 65,
   "metadata": {
    "collapsed": false
   },
   "outputs": [
    {
     "data": {
      "text/plain": [
       "<matplotlib.text.Text at 0x7f6c8c64a860>"
      ]
     },
     "execution_count": 65,
     "metadata": {},
     "output_type": "execute_result"
    },
    {
     "data": {
      "image/png": "[encoded data removed]",
      "text/plain": [
       "<matplotlib.figure.Figure at 0x7f6c880ac198>"
      ]
     },
     "metadata": {},
     "output_type": "display_data"
    }
   ],
   "source": [
    "plt.loglog(lumLogBinCents, newLum[0], label='CNN')\n",
    "plt.loglog(lumLogBinCents, testLum, label='Simulated')\n",
    "plt.legend()\n",
    "plt.title('CNN Result')\n",
    "plt.xlabel('L (L_sun)')\n",
    "plt.ylabel('dN/dL')"
   ]
  },
  {
   "cell_type": "code",
   "execution_count": 75,
   "metadata": {
    "collapsed": false
   },
   "outputs": [
    {
     "data": {
      "text/plain": [
       "(0, 75)"
      ]
     },
     "execution_count": 75,
     "metadata": {},
     "output_type": "execute_result"
    },
    {
     "data": {
      "image/png": "[encoded data removed]",
      "text/plain": [
       "<matplotlib.figure.Figure at 0x7f6c387e0518>"
      ]
     },
     "metadata": {},
     "output_type": "display_data"
    }
   ],
   "source": [
    "plt.semilogx(lumLogBinCents, newLum[0]/testLum)\n",
    "plt.title('CNN Result')\n",
    "plt.xlabel('L (L_sun)')\n",
    "plt.ylabel('dN/dL_CNN/dN/dL_Sim')\n",
    "plt.xlim([1, 10**6])\n",
    "plt.ylim([0, 75])"
   ]
  },
  {
   "cell_type": "code",
   "execution_count": 66,
   "metadata": {
    "collapsed": false
   },
   "outputs": [
    {
     "data": {
      "image/png": "[encoded data removed]",
      "text/plain": [
       "<matplotlib.figure.Figure at 0x7f6c387c6128>"
      ]
     },
     "metadata": {},
     "output_type": "display_data"
    },
    {
     "data": {
      "image/png": "[encoded data removed]",
      "text/plain": [
       "<matplotlib.figure.Figure at 0x7f6c701f0b38>"
      ]
     },
     "metadata": {},
     "output_type": "display_data"
    }
   ],
   "source": [
    "plt.plot(range(100), history['loss'])\n",
    "plt.xlabel('Epoch')\n",
    "plt.ylabel('MLSE')\n",
    "plt.title('Loss')\n",
    "plt.show()\n",
    "plt.plot(range(100), history['mean_squared_error'])\n",
    "plt.xlabel('Epoch')\n",
    "plt.ylabel('MSE')\n",
    "plt.show()"
   ]
  },
  {
   "cell_type": "code",
   "execution_count": 78,
   "metadata": {
    "collapsed": false
   },
   "outputs": [
    {
     "name": "stdout",
     "output_type": "stream",
     "text": [
      "\r",
      "1/1 [==============================] - 2s 2s/step\n"
     ]
    },
    {
     "data": {
      "text/plain": [
       "[24.525211334228516, 12289769996288.0]"
      ]
     },
     "execution_count": 78,
     "metadata": {},
     "output_type": "execute_result"
    }
   ],
   "source": [
    "testMap = lnn.fileToMapData(base[750] + '_map.npz')\n",
    "testLum = lnn.justLumFunc(lnn.fileToLum(base[750] + '_lum.npz'))\n",
    "\n",
    "testMap = testMap.reshape(len(testMap), len(testMap[0]), len(testMap[0][0]), 1)\n",
    "\n",
    "baseMap2 = np.expand_dims(testMap, axis=0)\n",
    "# baseMap2 = np.expand_dims(baseMap2, axis=0)\n",
    "baseLum2 = np.expand_dims(testLum, axis=0)\n",
    "\n",
    "newLum = model_5_layer.predict(tf.convert_to_tensor(baseMap2), steps=1)\n",
    "model_5_layer.evaluate(tf.convert_to_tensor(baseMap2), tf.convert_to_tensor(baseLum2), steps=1, verbose=1)"
   ]
  },
  {
   "cell_type": "code",
   "execution_count": 79,
   "metadata": {
    "collapsed": false
   },
   "outputs": [
    {
     "data": {
      "text/plain": [
       "<matplotlib.text.Text at 0x7f6bf87c7f98>"
      ]
     },
     "execution_count": 79,
     "metadata": {},
     "output_type": "execute_result"
    },
    {
     "data": {
      "image/png": "[encoded data removed]",
      "text/plain": [
       "<matplotlib.figure.Figure at 0x7f6bf870bc88>"
      ]
     },
     "metadata": {},
     "output_type": "display_data"
    }
   ],
   "source": [
    "plt.loglog(lumLogBinCents, newLum[0], label='CNN')\n",
    "plt.loglog(lumLogBinCents, testLum, label='Simulated')\n",
    "plt.legend()\n",
    "plt.title('CNN Result')\n",
    "plt.xlabel('L (L_sun)')\n",
    "plt.ylabel('dN/dL')"
   ]
  },
  {
   "cell_type": "markdown",
   "metadata": {},
   "source": [
    "# Test Making Dataset for training"
   ]
  },
  {
   "cell_type": "code",
   "execution_count": 24,
   "metadata": {
    "collapsed": true
   },
   "outputs": [],
   "source": [
    "loc = '../maps/test/'\n",
    "base = lnn.loadBaseFNames(loc)"
   ]
  },
  {
   "cell_type": "code",
   "execution_count": 25,
   "metadata": {
    "collapsed": false
   },
   "outputs": [
    {
     "data": {
      "text/plain": [
       "'COMAP_z2.39-3.44_1140Mpc_seed_13659_rotate_0_subfield_35'"
      ]
     },
     "execution_count": 25,
     "metadata": {},
     "output_type": "execute_result"
    }
   ],
   "source": [
    "base[0]"
   ]
  },
  {
   "cell_type": "code",
   "execution_count": 26,
   "metadata": {
    "collapsed": false
   },
   "outputs": [],
   "source": [
    "mapData, lumData = lnn.fileToMapAndLum(loc + base[0])"
   ]
  },
  {
   "cell_type": "code",
   "execution_count": 28,
   "metadata": {
    "collapsed": false,
    "scrolled": true
   },
   "outputs": [
    {
     "data": {
      "text/plain": [
       "array([[ 0.        ,  0.        ,  0.        , ...,  0.        ,\n",
       "         5.44276602,  0.44655489],\n",
       "       [ 0.        ,  2.41778707,  0.        , ...,  0.        ,\n",
       "         0.        ,  0.        ],\n",
       "       [ 0.        ,  0.        ,  0.        , ...,  0.        ,\n",
       "         0.        ,  0.8976039 ],\n",
       "       ..., \n",
       "       [ 0.        ,  0.        ,  0.        , ...,  0.        ,\n",
       "         0.        ,  0.        ],\n",
       "       [ 0.        ,  0.        ,  0.        , ...,  0.8193982 ,\n",
       "         0.        ,  1.10711577],\n",
       "       [ 0.        ,  0.        ,  0.        , ...,  0.        ,\n",
       "         0.        ,  0.        ]])"
      ]
     },
     "execution_count": 28,
     "metadata": {},
     "output_type": "execute_result"
    }
   ],
   "source": [
    "mapData[0]"
   ]
  },
  {
   "cell_type": "code",
   "execution_count": 36,
   "metadata": {
    "collapsed": false
   },
   "outputs": [],
   "source": [
    "newMap = mapData.reshape(256, 256, 100, 1)"
   ]
  },
  {
   "cell_type": "code",
   "execution_count": 30,
   "metadata": {
    "collapsed": false,
    "scrolled": true
   },
   "outputs": [
    {
     "data": {
      "text/plain": [
       "6553600"
      ]
     },
     "execution_count": 30,
     "metadata": {},
     "output_type": "execute_result"
    }
   ],
   "source": [
    "mapData.size"
   ]
  },
  {
   "cell_type": "code",
   "execution_count": 33,
   "metadata": {
    "collapsed": false
   },
   "outputs": [
    {
     "data": {
      "text/plain": [
       "100"
      ]
     },
     "execution_count": 33,
     "metadata": {},
     "output_type": "execute_result"
    }
   ],
   "source": [
    "len(mapData[0][0])"
   ]
  },
  {
   "cell_type": "code",
   "execution_count": 41,
   "metadata": {
    "collapsed": false,
    "scrolled": true
   },
   "outputs": [
    {
     "data": {
      "text/plain": [
       "1"
      ]
     },
     "execution_count": 41,
     "metadata": {},
     "output_type": "execute_result"
    }
   ],
   "source": [
    "len(newMap[0][0][0])"
   ]
  },
  {
   "cell_type": "code",
   "execution_count": null,
   "metadata": {
    "collapsed": true
   },
   "outputs": [],
   "source": []
  },
  {
   "cell_type": "markdown",
   "metadata": {
    "collapsed": false
   },
   "source": [
    "# Visualize learning history"
   ]
  },
  {
   "cell_type": "code",
   "execution_count": 31,
   "metadata": {
    "collapsed": false
   },
   "outputs": [
    {
     "name": "stdout",
     "output_type": "stream",
     "text": [
      "_________________________________________________________________\n",
      "Layer (type)                 Output Shape              Param #   \n",
      "=================================================================\n",
      "conv3d (Conv3D)              (None, 252, 252, 96, 32)  4032      \n",
      "_________________________________________________________________\n",
      "max_pooling3d (MaxPooling3D) (None, 126, 126, 48, 32)  0         \n",
      "_________________________________________________________________\n",
      "conv3d_1 (Conv3D)            (None, 122, 122, 44, 64)  256064    \n",
      "_________________________________________________________________\n",
      "max_pooling3d_1 (MaxPooling3 (None, 61, 61, 22, 64)    0         \n",
      "_________________________________________________________________\n",
      "conv3d_2 (Conv3D)            (None, 57, 57, 18, 128)   1024128   \n",
      "_________________________________________________________________\n",
      "max_pooling3d_2 (MaxPooling3 (None, 28, 28, 9, 128)    0         \n",
      "_________________________________________________________________\n",
      "conv3d_3 (Conv3D)            (None, 24, 24, 5, 256)    4096256   \n",
      "_________________________________________________________________\n",
      "max_pooling3d_3 (MaxPooling3 (None, 12, 12, 2, 256)    0         \n",
      "_________________________________________________________________\n",
      "flatten (Flatten)            (None, 73728)             0         \n",
      "_________________________________________________________________\n",
      "dense (Dense)                (None, 1000)              73729000  \n",
      "_________________________________________________________________\n",
      "dense_1 (Dense)              (None, 49)                49049     \n",
      "=================================================================\n",
      "Total params: 79,158,529\n",
      "Trainable params: 79,158,529\n",
      "Non-trainable params: 0\n",
      "_________________________________________________________________\n"
     ]
    }
   ],
   "source": [
    "model2.summary()"
   ]
  },
  {
   "cell_type": "code",
   "execution_count": 35,
   "metadata": {
    "collapsed": false,
    "scrolled": false
   },
   "outputs": [
    {
     "data": {
      "text/plain": [
       "{'loss': [0.0064823422580957413], 'mean_squared_error': [0.013114519417285919]}"
      ]
     },
     "execution_count": 35,
     "metadata": {},
     "output_type": "execute_result"
    }
   ],
   "source": [
    "history.history"
   ]
  },
  {
   "cell_type": "code",
   "execution_count": null,
   "metadata": {
    "collapsed": false,
    "scrolled": true
   },
   "outputs": [],
   "source": []
  },
  {
   "cell_type": "code",
   "execution_count": null,
   "metadata": {
    "collapsed": false
   },
   "outputs": [],
   "source": []
  },
  {
   "cell_type": "code",
   "execution_count": null,
   "metadata": {
    "collapsed": false
   },
   "outputs": [],
   "source": []
  },
  {
   "cell_type": "code",
   "execution_count": null,
   "metadata": {
    "collapsed": false
   },
   "outputs": [],
   "source": []
  },
  {
   "cell_type": "code",
   "execution_count": null,
   "metadata": {
    "collapsed": false
   },
   "outputs": [],
   "source": []
  },
  {
   "cell_type": "code",
   "execution_count": null,
   "metadata": {
    "collapsed": false
   },
   "outputs": [],
   "source": []
  },
  {
   "cell_type": "code",
   "execution_count": null,
   "metadata": {
    "collapsed": false
   },
   "outputs": [],
   "source": []
  },
  {
   "cell_type": "code",
   "execution_count": null,
   "metadata": {
    "collapsed": false
   },
   "outputs": [],
   "source": []
  },
  {
   "cell_type": "code",
   "execution_count": null,
   "metadata": {
    "collapsed": false,
    "scrolled": true
   },
   "outputs": [],
   "source": []
  },
  {
   "cell_type": "code",
   "execution_count": null,
   "metadata": {
    "collapsed": false
   },
   "outputs": [],
   "source": []
  },
  {
   "cell_type": "code",
   "execution_count": null,
   "metadata": {
    "collapsed": false
   },
   "outputs": [],
   "source": []
  },
  {
   "cell_type": "code",
   "execution_count": null,
   "metadata": {
    "collapsed": false
   },
   "outputs": [],
   "source": []
  },
  {
   "cell_type": "code",
   "execution_count": null,
   "metadata": {
    "collapsed": false
   },
   "outputs": [],
   "source": []
  },
  {
   "cell_type": "code",
   "execution_count": null,
   "metadata": {
    "collapsed": true
   },
   "outputs": [],
   "source": []
  }
 ],
 "metadata": {
  "kernelspec": {
   "display_name": "Python 3",
   "language": "python",
   "name": "python3"
  },
  "language_info": {
   "codemirror_mode": {
    "name": "ipython",
    "version": 3
   },
   "file_extension": ".py",
   "mimetype": "text/x-python",
   "name": "python",
   "nbconvert_exporter": "python",
   "pygments_lexer": "ipython3",
   "version": "3.5.3"
  }
 },
 "nbformat": 4,
 "nbformat_minor": 0
}
