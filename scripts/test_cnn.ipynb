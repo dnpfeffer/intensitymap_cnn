{
 "cells": [
  {
   "cell_type": "markdown",
   "metadata": {},
   "source": [
    "# Base Imports"
   ]
  },
  {
   "cell_type": "code",
   "execution_count": 1,
   "metadata": {
    "collapsed": false
   },
   "outputs": [],
   "source": [
    "% matplotlib inline\n",
    "\n",
    "import matplotlib.pyplot as plt\n",
    "import numpy as np\n",
    "\n",
    "from limlam_mocker import limlam_mocker as llm\n",
    "#Get Parameters for run\n",
    "from limlam_mocker import params        as params\n",
    "\n",
    "import lnn as lnn\n",
    "\n",
    "%load_ext autoreload"
   ]
  },
  {
   "cell_type": "code",
   "execution_count": 2,
   "metadata": {
    "collapsed": false
   },
   "outputs": [],
   "source": [
    "%autoreload\n",
    "# %autoreload 0\n",
    "#%autoreload 2"
   ]
  },
  {
   "cell_type": "markdown",
   "metadata": {
    "collapsed": true
   },
   "source": [
    "# Setup Learning Environment"
   ]
  },
  {
   "cell_type": "code",
   "execution_count": 3,
   "metadata": {
    "collapsed": false
   },
   "outputs": [],
   "source": [
    "import tensorflow as tf\n",
    "from tensorflow import keras"
   ]
  },
  {
   "cell_type": "code",
   "execution_count": 4,
   "metadata": {
    "collapsed": true
   },
   "outputs": [],
   "source": [
    "mapLoc = '../maps/test/'\n",
    "catLoc = '../catalogues/'"
   ]
  },
  {
   "cell_type": "code",
   "execution_count": 5,
   "metadata": {
    "collapsed": true
   },
   "outputs": [],
   "source": [
    "### map info\n",
    "numb_maps = 100\n",
    "pix_x = 256\n",
    "pix_y = 256\n",
    "\n",
    "### output info\n",
    "lum_func_size = 49"
   ]
  },
  {
   "cell_type": "markdown",
   "metadata": {},
   "source": [
    "# Set Up the Model"
   ]
  },
  {
   "cell_type": "code",
   "execution_count": 6,
   "metadata": {
    "collapsed": false
   },
   "outputs": [],
   "source": [
    "model = keras.Sequential()\n",
    "### convolutional layer\n",
    "model.add(keras.layers.Conv2D(32, kernel_size=(5,5), strides=(1,1), activation='relu', input_shape=(pix_x, pix_y, numb_maps)))\n",
    "### pooling layer\n",
    "model.add(keras.layers.MaxPooling2D(pool_size=(2,2), strides=(2,2)))\n",
    "### convolutional layer\n",
    "model.add(keras.layers.Conv2D(64, (5, 5), activation='relu'))\n",
    "### pooling layer\n",
    "model.add(keras.layers.MaxPooling2D(pool_size=(2, 2)))\n",
    "### flatten the network\n",
    "model.add(keras.layers.Flatten())\n",
    "### make a dense layer for the second to last step\n",
    "model.add(keras.layers.Dense(1000, activation='relu'))\n",
    "### finish it off with a dense layer with the number of output we want for our luminosity function\n",
    "model.add(keras.layers.Dense(lum_func_size, activation='linear'))"
   ]
  },
  {
   "cell_type": "code",
   "execution_count": 7,
   "metadata": {
    "collapsed": false
   },
   "outputs": [],
   "source": [
    "model.compile(loss=keras.losses.logcosh, \n",
    "              optimizer=keras.optimizers.SGD(), \n",
    "              metrics=[keras.metrics.mse])"
   ]
  },
  {
   "cell_type": "markdown",
   "metadata": {},
   "source": [
    "# Model 2"
   ]
  },
  {
   "cell_type": "code",
   "execution_count": 8,
   "metadata": {
    "collapsed": false
   },
   "outputs": [],
   "source": [
    "model2 = keras.Sequential()\n",
    "### convolutional layer\n",
    "model2.add(keras.layers.Conv3D(32, kernel_size=(5,5,5), strides=(1,1,1), activation='relu', input_shape=(pix_x, pix_y, numb_maps, 1)))\n",
    "### use a convolution instead of a pool that acts like a pool\n",
    "model2.add(keras.layers.Conv3D(32, kernel_size=(2,2,2), strides=(2,2,2), activation='relu'))\n",
    "### convolutional layer\n",
    "model2.add(keras.layers.Conv3D(64, (5,5,5), activation='relu'))\n",
    "### use a convolution instead of a pool that acts like a pool\n",
    "model2.add(keras.layers.Conv3D(64, kernel_size=(2,2,2), strides=(2,2,2), activation='relu'))\n",
    "### flatten the network\n",
    "model2.add(keras.layers.Flatten())\n",
    "### make a dense layer for the second to last step\n",
    "model2.add(keras.layers.Dense(1000, activation='relu'))\n",
    "### finish it off with a dense layer with the number of output we want for our luminosity function\n",
    "model2.add(keras.layers.Dense(lum_func_size, activation='linear'))"
   ]
  },
  {
   "cell_type": "code",
   "execution_count": 9,
   "metadata": {
    "collapsed": true
   },
   "outputs": [],
   "source": [
    "model2.compile(loss=keras.losses.logcosh, \n",
    "              optimizer=keras.optimizers.SGD(), \n",
    "              metrics=[keras.metrics.mse])"
   ]
  },
  {
   "cell_type": "markdown",
   "metadata": {},
   "source": [
    "# Load Model"
   ]
  },
  {
   "cell_type": "code",
   "execution_count": 10,
   "metadata": {
    "collapsed": true
   },
   "outputs": [],
   "source": [
    "model2 = keras.models.load_model('my_model2.h5')"
   ]
  },
  {
   "cell_type": "code",
   "execution_count": 14,
   "metadata": {
    "collapsed": false
   },
   "outputs": [
    {
     "data": {
      "text/plain": [
       "[<tensorflow.python.keras.layers.convolutional.Conv2D at 0x7f0edeaec198>,\n",
       " <tensorflow.python.keras.layers.pooling.MaxPooling2D at 0x7f0edeaec470>,\n",
       " <tensorflow.python.keras.layers.convolutional.Conv2D at 0x7f0edeaec7f0>,\n",
       " <tensorflow.python.keras.layers.pooling.MaxPooling2D at 0x7f0edeaf8e80>,\n",
       " <tensorflow.python.keras.layers.core.Flatten at 0x7f0edea9d668>,\n",
       " <tensorflow.python.keras.layers.core.Dense at 0x7f0edea9d080>,\n",
       " <tensorflow.python.keras.layers.core.Dense at 0x7f0edeab92e8>]"
      ]
     },
     "execution_count": 14,
     "metadata": {},
     "output_type": "execute_result"
    }
   ],
   "source": [
    "model2.layers"
   ]
  },
  {
   "cell_type": "markdown",
   "metadata": {
    "collapsed": true
   },
   "source": [
    "# Start Training the Network"
   ]
  },
  {
   "cell_type": "code",
   "execution_count": 10,
   "metadata": {
    "collapsed": false
   },
   "outputs": [],
   "source": [
    "### number of maps to look at in a batch\n",
    "batch_size = 100\n",
    "steps_per_epoch = 5\n",
    "epochs = 10\n",
    "\n",
    "subFields = lnn.loadBaseFNames(mapLoc)\n",
    "base = [mapLoc + s for s in subFields]\n",
    "\n",
    "dataset = tf.data.Dataset.from_tensor_slices(tf.convert_to_tensor(base))\n",
    "dataset = dataset.shuffle(buffer_size=len(base))\n",
    "dataset = dataset.map(lambda item: tuple(tf.py_func(lnn.utf8FileToMapAndLum, [item], [tf.float64, tf.float64])))\n",
    "dataset = dataset.repeat()\n",
    "dataset = dataset.batch(batch_size)"
   ]
  },
  {
   "cell_type": "code",
   "execution_count": 16,
   "metadata": {
    "collapsed": false
   },
   "outputs": [
    {
     "name": "stdout",
     "output_type": "stream",
     "text": [
      "Epoch 1/10\n",
      "5/5 [==============================] - 432s 86s/step - loss: 4.2342 - mean_squared_error: 26.3019\n",
      "Epoch 2/10\n",
      "5/5 [==============================] - 434s 87s/step - loss: 4.2319 - mean_squared_error: 26.2792\n",
      "Epoch 3/10\n",
      "5/5 [==============================] - 442s 88s/step - loss: 4.2325 - mean_squared_error: 26.2876\n",
      "Epoch 4/10\n",
      "5/5 [==============================] - 440s 88s/step - loss: 4.2305 - mean_squared_error: 26.2651\n",
      "Epoch 5/10\n",
      "5/5 [==============================] - 441s 88s/step - loss: 4.2284 - mean_squared_error: 26.2510\n",
      "Epoch 6/10\n",
      "5/5 [==============================] - 435s 87s/step - loss: 4.2267 - mean_squared_error: 26.2265\n",
      "Epoch 7/10\n",
      "5/5 [==============================] - 448s 90s/step - loss: 4.2258 - mean_squared_error: 26.2198\n",
      "Epoch 8/10\n",
      "5/5 [==============================] - 445s 89s/step - loss: 4.2249 - mean_squared_error: 26.2079\n",
      "Epoch 9/10\n",
      "5/5 [==============================] - 443s 89s/step - loss: 4.2232 - mean_squared_error: 26.1965\n",
      "Epoch 10/10\n",
      "5/5 [==============================] - 434s 87s/step - loss: 4.2204 - mean_squared_error: 26.1613\n"
     ]
    },
    {
     "data": {
      "text/plain": [
       "<tensorflow.python.keras.callbacks.History at 0x7fd33470c710>"
      ]
     },
     "execution_count": 16,
     "metadata": {},
     "output_type": "execute_result"
    }
   ],
   "source": [
    "model.fit(dataset, epochs=epochs, steps_per_epoch=steps_per_epoch, verbose=1)"
   ]
  },
  {
   "cell_type": "code",
   "execution_count": 27,
   "metadata": {
    "collapsed": true
   },
   "outputs": [],
   "source": [
    "model.save('my_model.h5')"
   ]
  },
  {
   "cell_type": "code",
   "execution_count": null,
   "metadata": {
    "collapsed": true
   },
   "outputs": [],
   "source": []
  },
  {
   "cell_type": "code",
   "execution_count": 11,
   "metadata": {
    "collapsed": true
   },
   "outputs": [],
   "source": [
    "### number of maps to look at in a batch\n",
    "batch_size = 10\n",
    "steps_per_epoch = 5\n",
    "epochs = 5\n",
    "\n",
    "subFields = lnn.loadBaseFNames(mapLoc)\n",
    "base = [mapLoc + s for s in subFields]\n",
    "\n",
    "dataset = tf.data.Dataset.from_tensor_slices(tf.convert_to_tensor(base))\n",
    "dataset = dataset.shuffle(buffer_size=len(base))\n",
    "dataset = dataset.map(lambda item: tuple(tf.py_func(lnn.utf8FileToMapAndLum3D, [item], [tf.float64, tf.float64])))\n",
    "dataset = dataset.repeat()\n",
    "dataset = dataset.batch(batch_size)"
   ]
  },
  {
   "cell_type": "code",
   "execution_count": 12,
   "metadata": {
    "collapsed": false
   },
   "outputs": [
    {
     "name": "stdout",
     "output_type": "stream",
     "text": [
      "Epoch 1/5\n",
      "5/5 [==============================] - 2137s 427s/step - loss: 10.0990 - mean_squared_error: 312.1474\n",
      "Epoch 2/5\n",
      "5/5 [==============================] - 1877s 375s/step - loss: 3.1942 - mean_squared_error: 19.7551\n",
      "Epoch 3/5\n",
      "5/5 [==============================] - 1856s 371s/step - loss: 3.4685 - mean_squared_error: 20.7461\n",
      "Epoch 4/5\n",
      "5/5 [==============================] - 1840s 368s/step - loss: 4.0580 - mean_squared_error: 24.5113\n",
      "Epoch 5/5\n",
      "5/5 [==============================] - 1838s 368s/step - loss: 3.8094 - mean_squared_error: 25.6376\n"
     ]
    },
    {
     "data": {
      "text/plain": [
       "<tensorflow.python.keras.callbacks.History at 0x7f5d27128860>"
      ]
     },
     "execution_count": 12,
     "metadata": {},
     "output_type": "execute_result"
    }
   ],
   "source": [
    "model2.fit(dataset, epochs=epochs, steps_per_epoch=steps_per_epoch, verbose=1)"
   ]
  },
  {
   "cell_type": "code",
   "execution_count": 15,
   "metadata": {
    "collapsed": true
   },
   "outputs": [],
   "source": [
    "model2.save('my_model2.h5')"
   ]
  },
  {
   "cell_type": "code",
   "execution_count": 14,
   "metadata": {
    "collapsed": false
   },
   "outputs": [
    {
     "name": "stdout",
     "output_type": "stream",
     "text": [
      "Epoch 1/5\n",
      "5/5 [==============================] - 1790s 358s/step - loss: 4.0312 - mean_squared_error: 24.3023\n",
      "Epoch 2/5\n",
      "5/5 [==============================] - 1811s 362s/step - loss: 2.9661 - mean_squared_error: 17.2210\n",
      "Epoch 3/5\n",
      "5/5 [==============================] - 1868s 374s/step - loss: 3.2975 - mean_squared_error: 19.5987\n",
      "Epoch 4/5\n",
      "5/5 [==============================] - 1812s 362s/step - loss: 1.8060 - mean_squared_error: 8.0837\n",
      "Epoch 5/5\n",
      "5/5 [==============================] - 1802s 360s/step - loss: 1.6294 - mean_squared_error: 6.6302\n"
     ]
    },
    {
     "data": {
      "text/plain": [
       "<tensorflow.python.keras.callbacks.History at 0x7f5d27c3e278>"
      ]
     },
     "execution_count": 14,
     "metadata": {},
     "output_type": "execute_result"
    }
   ],
   "source": [
    "model2.fit(dataset, epochs=epochs, steps_per_epoch=steps_per_epoch, verbose=1)"
   ]
  },
  {
   "cell_type": "markdown",
   "metadata": {},
   "source": [
    "# See How Good the Model Is"
   ]
  },
  {
   "cell_type": "code",
   "execution_count": 29,
   "metadata": {
    "collapsed": false
   },
   "outputs": [],
   "source": [
    "lumLogBinCents = lnn.loadData(base[152] + '_lum.npz')['logBinCent']"
   ]
  },
  {
   "cell_type": "code",
   "execution_count": 35,
   "metadata": {
    "collapsed": false
   },
   "outputs": [
    {
     "name": "stdout",
     "output_type": "stream",
     "text": [
      "\r",
      "1/1 [==============================] - 1s 1s/step\n"
     ]
    },
    {
     "data": {
      "text/plain": [
       "[4.2110600471496582, 26.049421310424805]"
      ]
     },
     "execution_count": 35,
     "metadata": {},
     "output_type": "execute_result"
    }
   ],
   "source": [
    "testMap = lnn.fileToMapData(base[152] + '_map.npz')\n",
    "testLum = lnn.logLumFunc(lnn.fileToLum(base[152] + '_lum.npz'))\n",
    "baseMap2 = np.expand_dims(testMap, axis=0)\n",
    "baseLum2 = np.expand_dims(testLum, axis=0)\n",
    "\n",
    "newLum = model.predict(tf.convert_to_tensor(baseMap2), steps=1)\n",
    "model.evaluate(tf.convert_to_tensor(baseMap2), tf.convert_to_tensor(baseLum2), steps=1, verbose=1)"
   ]
  },
  {
   "cell_type": "code",
   "execution_count": 36,
   "metadata": {
    "collapsed": false
   },
   "outputs": [
    {
     "data": {
      "text/plain": [
       "[<matplotlib.lines.Line2D at 0x7fd2f4491748>]"
      ]
     },
     "execution_count": 36,
     "metadata": {},
     "output_type": "execute_result"
    },
    {
     "data": {
      "image/png": "[encoded data removed]",
      "text/plain": [
       "<matplotlib.figure.Figure at 0x7fd2f44b9320>"
      ]
     },
     "metadata": {},
     "output_type": "display_data"
    }
   ],
   "source": [
    "plt.plot(newLum[0])"
   ]
  },
  {
   "cell_type": "code",
   "execution_count": 39,
   "metadata": {
    "collapsed": false
   },
   "outputs": [
    {
     "data": {
      "text/plain": [
       "<matplotlib.text.Text at 0x7f5c8c75eb00>"
      ]
     },
     "execution_count": 39,
     "metadata": {},
     "output_type": "execute_result"
    },
    {
     "data": {
      "image/png": "[encoded data removed]",
      "text/plain": [
       "<matplotlib.figure.Figure at 0x7f5cac7698d0>"
      ]
     },
     "metadata": {},
     "output_type": "display_data"
    }
   ],
   "source": [
    "plt.semilogx(lumLogBinCents, testLum)\n",
    "plt.title('Simulated')\n",
    "plt.xlabel('L (L_sun)')\n",
    "plt.ylabel('Log10(dN/dL)')"
   ]
  },
  {
   "cell_type": "code",
   "execution_count": null,
   "metadata": {
    "collapsed": false
   },
   "outputs": [],
   "source": []
  },
  {
   "cell_type": "code",
   "execution_count": 22,
   "metadata": {
    "collapsed": false
   },
   "outputs": [
    {
     "name": "stdout",
     "output_type": "stream",
     "text": [
      "\r",
      "1/1 [==============================] - 7s 7s/step\n"
     ]
    },
    {
     "data": {
      "text/plain": [
       "[0.59286022186279297, 1.4800760746002197]"
      ]
     },
     "execution_count": 22,
     "metadata": {},
     "output_type": "execute_result"
    }
   ],
   "source": [
    "testMap = lnn.fileToMapData(base[152] + '_map.npz')\n",
    "testLum = lnn.logLumFunc(lnn.fileToLum(base[152] + '_lum.npz'))\n",
    "\n",
    "testMap = testMap.reshape(len(testMap), len(testMap[0]), len(testMap[0][0]), 1)\n",
    "\n",
    "baseMap2 = np.expand_dims(testMap, axis=0)\n",
    "# baseMap2 = np.expand_dims(baseMap2, axis=0)\n",
    "baseLum2 = np.expand_dims(testLum, axis=0)\n",
    "\n",
    "newLum = model2.predict(tf.convert_to_tensor(baseMap2), steps=1)\n",
    "model2.evaluate(tf.convert_to_tensor(baseMap2), tf.convert_to_tensor(baseLum2), steps=1, verbose=1)"
   ]
  },
  {
   "cell_type": "code",
   "execution_count": 40,
   "metadata": {
    "collapsed": false
   },
   "outputs": [
    {
     "data": {
      "text/plain": [
       "<matplotlib.text.Text at 0x7f5c2c782128>"
      ]
     },
     "execution_count": 40,
     "metadata": {},
     "output_type": "execute_result"
    },
    {
     "data": {
      "image/png": "[encoded data removed]",
      "text/plain": [
       "<matplotlib.figure.Figure at 0x7f5ccc734588>"
      ]
     },
     "metadata": {},
     "output_type": "display_data"
    }
   ],
   "source": [
    "plt.semilogx(lumLogBinCents, newLum[0])\n",
    "plt.title('CNN Result')\n",
    "plt.xlabel('L (L_sun)')\n",
    "plt.ylabel('Log10(dN/dL)')"
   ]
  },
  {
   "cell_type": "code",
   "execution_count": 37,
   "metadata": {
    "collapsed": false
   },
   "outputs": [
    {
     "name": "stdout",
     "output_type": "stream",
     "text": [
      "\r",
      "1/1 [==============================] - 7s 7s/step\n"
     ]
    },
    {
     "data": {
      "text/plain": [
       "[0.57242500782012939, 1.423541784286499]"
      ]
     },
     "execution_count": 37,
     "metadata": {},
     "output_type": "execute_result"
    }
   ],
   "source": [
    "testMap = lnn.fileToMapData(base[753] + '_map.npz')\n",
    "testLum = lnn.logLumFunc(lnn.fileToLum(base[753] + '_lum.npz'))\n",
    "\n",
    "testMap = testMap.reshape(len(testMap), len(testMap[0]), len(testMap[0][0]), 1)\n",
    "\n",
    "baseMap2 = np.expand_dims(testMap, axis=0)\n",
    "# baseMap2 = np.expand_dims(baseMap2, axis=0)\n",
    "baseLum2 = np.expand_dims(testLum, axis=0)\n",
    "\n",
    "newLum = model2.predict(tf.convert_to_tensor(baseMap2), steps=1)\n",
    "model2.evaluate(tf.convert_to_tensor(baseMap2), tf.convert_to_tensor(baseLum2), steps=1, verbose=1)"
   ]
  },
  {
   "cell_type": "code",
   "execution_count": 38,
   "metadata": {
    "collapsed": false
   },
   "outputs": [
    {
     "data": {
      "text/plain": [
       "<matplotlib.text.Text at 0x7f5c6c7f1a20>"
      ]
     },
     "execution_count": 38,
     "metadata": {},
     "output_type": "execute_result"
    },
    {
     "data": {
      "image/png": "[encoded data removed]",
      "text/plain": [
       "<matplotlib.figure.Figure at 0x7f5c8c6bf7b8>"
      ]
     },
     "metadata": {},
     "output_type": "display_data"
    }
   ],
   "source": [
    "plt.semilogx(lumLogBinCents, newLum[0])\n",
    "plt.xlabel('L (L_sun)')\n",
    "plt.ylabel('Log10(dN/dL)')"
   ]
  },
  {
   "cell_type": "markdown",
   "metadata": {},
   "source": [
    "# Test Making Dataset for training"
   ]
  },
  {
   "cell_type": "code",
   "execution_count": 24,
   "metadata": {
    "collapsed": true
   },
   "outputs": [],
   "source": [
    "loc = '../maps/test/'\n",
    "base = lnn.loadBaseFNames(loc)"
   ]
  },
  {
   "cell_type": "code",
   "execution_count": 25,
   "metadata": {
    "collapsed": false
   },
   "outputs": [
    {
     "data": {
      "text/plain": [
       "'COMAP_z2.39-3.44_1140Mpc_seed_13659_rotate_0_subfield_35'"
      ]
     },
     "execution_count": 25,
     "metadata": {},
     "output_type": "execute_result"
    }
   ],
   "source": [
    "base[0]"
   ]
  },
  {
   "cell_type": "code",
   "execution_count": 26,
   "metadata": {
    "collapsed": false
   },
   "outputs": [],
   "source": [
    "mapData, lumData = lnn.fileToMapAndLum(loc + base[0])"
   ]
  },
  {
   "cell_type": "code",
   "execution_count": 28,
   "metadata": {
    "collapsed": false,
    "scrolled": true
   },
   "outputs": [
    {
     "data": {
      "text/plain": [
       "array([[ 0.        ,  0.        ,  0.        , ...,  0.        ,\n",
       "         5.44276602,  0.44655489],\n",
       "       [ 0.        ,  2.41778707,  0.        , ...,  0.        ,\n",
       "         0.        ,  0.        ],\n",
       "       [ 0.        ,  0.        ,  0.        , ...,  0.        ,\n",
       "         0.        ,  0.8976039 ],\n",
       "       ..., \n",
       "       [ 0.        ,  0.        ,  0.        , ...,  0.        ,\n",
       "         0.        ,  0.        ],\n",
       "       [ 0.        ,  0.        ,  0.        , ...,  0.8193982 ,\n",
       "         0.        ,  1.10711577],\n",
       "       [ 0.        ,  0.        ,  0.        , ...,  0.        ,\n",
       "         0.        ,  0.        ]])"
      ]
     },
     "execution_count": 28,
     "metadata": {},
     "output_type": "execute_result"
    }
   ],
   "source": [
    "mapData[0]"
   ]
  },
  {
   "cell_type": "code",
   "execution_count": 36,
   "metadata": {
    "collapsed": false
   },
   "outputs": [],
   "source": [
    "newMap = mapData.reshape(256, 256, 100, 1)"
   ]
  },
  {
   "cell_type": "code",
   "execution_count": 30,
   "metadata": {
    "collapsed": false,
    "scrolled": true
   },
   "outputs": [
    {
     "data": {
      "text/plain": [
       "6553600"
      ]
     },
     "execution_count": 30,
     "metadata": {},
     "output_type": "execute_result"
    }
   ],
   "source": [
    "mapData.size"
   ]
  },
  {
   "cell_type": "code",
   "execution_count": 33,
   "metadata": {
    "collapsed": false
   },
   "outputs": [
    {
     "data": {
      "text/plain": [
       "100"
      ]
     },
     "execution_count": 33,
     "metadata": {},
     "output_type": "execute_result"
    }
   ],
   "source": [
    "len(mapData[0][0])"
   ]
  },
  {
   "cell_type": "code",
   "execution_count": 41,
   "metadata": {
    "collapsed": false,
    "scrolled": true
   },
   "outputs": [
    {
     "data": {
      "text/plain": [
       "1"
      ]
     },
     "execution_count": 41,
     "metadata": {},
     "output_type": "execute_result"
    }
   ],
   "source": [
    "len(newMap[0][0][0])"
   ]
  },
  {
   "cell_type": "code",
   "execution_count": null,
   "metadata": {
    "collapsed": true
   },
   "outputs": [],
   "source": []
  },
  {
   "cell_type": "code",
   "execution_count": null,
   "metadata": {
    "collapsed": false
   },
   "outputs": [],
   "source": []
  },
  {
   "cell_type": "code",
   "execution_count": null,
   "metadata": {
    "collapsed": true
   },
   "outputs": [],
   "source": []
  },
  {
   "cell_type": "code",
   "execution_count": null,
   "metadata": {
    "collapsed": false,
    "scrolled": false
   },
   "outputs": [],
   "source": []
  },
  {
   "cell_type": "code",
   "execution_count": null,
   "metadata": {
    "collapsed": false,
    "scrolled": true
   },
   "outputs": [],
   "source": []
  },
  {
   "cell_type": "code",
   "execution_count": null,
   "metadata": {
    "collapsed": false
   },
   "outputs": [],
   "source": []
  },
  {
   "cell_type": "code",
   "execution_count": null,
   "metadata": {
    "collapsed": false
   },
   "outputs": [],
   "source": []
  },
  {
   "cell_type": "code",
   "execution_count": null,
   "metadata": {
    "collapsed": false
   },
   "outputs": [],
   "source": []
  },
  {
   "cell_type": "code",
   "execution_count": null,
   "metadata": {
    "collapsed": false
   },
   "outputs": [],
   "source": []
  },
  {
   "cell_type": "code",
   "execution_count": null,
   "metadata": {
    "collapsed": false
   },
   "outputs": [],
   "source": []
  },
  {
   "cell_type": "code",
   "execution_count": null,
   "metadata": {
    "collapsed": false
   },
   "outputs": [],
   "source": []
  },
  {
   "cell_type": "code",
   "execution_count": null,
   "metadata": {
    "collapsed": false
   },
   "outputs": [],
   "source": []
  },
  {
   "cell_type": "code",
   "execution_count": null,
   "metadata": {
    "collapsed": false,
    "scrolled": true
   },
   "outputs": [],
   "source": []
  },
  {
   "cell_type": "code",
   "execution_count": null,
   "metadata": {
    "collapsed": false
   },
   "outputs": [],
   "source": []
  },
  {
   "cell_type": "code",
   "execution_count": null,
   "metadata": {
    "collapsed": false
   },
   "outputs": [],
   "source": []
  },
  {
   "cell_type": "code",
   "execution_count": null,
   "metadata": {
    "collapsed": false
   },
   "outputs": [],
   "source": []
  },
  {
   "cell_type": "code",
   "execution_count": null,
   "metadata": {
    "collapsed": false
   },
   "outputs": [],
   "source": []
  },
  {
   "cell_type": "code",
   "execution_count": null,
   "metadata": {
    "collapsed": true
   },
   "outputs": [],
   "source": []
  }
 ],
 "metadata": {
  "kernelspec": {
   "display_name": "Python 3",
   "language": "python",
   "name": "python3"
  },
  "language_info": {
   "codemirror_mode": {
    "name": "ipython",
    "version": 3
   },
   "file_extension": ".py",
   "mimetype": "text/x-python",
   "name": "python",
   "nbconvert_exporter": "python",
   "pygments_lexer": "ipython3",
   "version": "3.5.3"
  }
 },
 "nbformat": 4,
 "nbformat_minor": 0
}
