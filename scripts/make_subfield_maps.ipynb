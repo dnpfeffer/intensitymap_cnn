{
 "cells": [
  {
   "cell_type": "code",
   "execution_count": 1,
   "metadata": {
    "collapsed": false
   },
   "outputs": [],
   "source": [
    "% matplotlib inline\n",
    "\n",
    "# import matplotlib.pyplot as plt\n",
    "import numpy as np\n",
    "\n",
    "from limlam_mocker import limlam_mocker as llm\n",
    "\n",
    "import lnn as lnn"
   ]
  },
  {
   "cell_type": "code",
   "execution_count": 2,
   "metadata": {
    "collapsed": false
   },
   "outputs": [],
   "source": [
    "loc = '../catalogues'\n",
    "subFields = lnn.loadSubFields(loc)"
   ]
  },
  {
   "cell_type": "code",
   "execution_count": 3,
   "metadata": {
    "collapsed": true
   },
   "outputs": [],
   "source": [
    "class params(object):\n",
    "    def __init__(self,d):\n",
    "        self.__dict__ = d\n",
    "\n",
    "def defaultParams():\n",
    "    paramsDict = {}\n",
    "    catName = 'COMAP_z2.39-3.44_1140Mpc_seed_13579_rotate_0_subfield_0.npz'\n",
    "    ### get the map and catalog output file name\n",
    "    paramsDict['halo_catalogue_file'] = '../catalogues/'+ catName\n",
    "    paramsDict['map_output_file'] = '../maps/' + catName\n",
    "\n",
    "    ### halo luminosity function\n",
    "    paramsDict['model'] = 'Li'\n",
    "    paramsDict['coeffs'] = [0.0, 1.37, -1.74, 0.3, 0.3]\n",
    "    paramsDict['min_mass'] = 2.5e10\n",
    "\n",
    "    ### map parameters\n",
    "    paramsDict['nu_rest'] = 115.27\n",
    "    paramsDict['nu_i'] = 34.\n",
    "    paramsDict['nu_f'] = 26.\n",
    "    paramsDict['nmaps'] = 100\n",
    "    paramsDict['fov_x'] = 1.4\n",
    "    paramsDict['fov_y'] = 1.4\n",
    "    paramsDict['npix_x'] = 256\n",
    "    paramsDict['npix_y'] = 256\n",
    "\n",
    "    ### Plot parameters\n",
    "    paramsDict['plot_cube'] = True\n",
    "    paramsDict['plot_pspec'] = True\n",
    "    \n",
    "    param = params(paramsDict)\n",
    "    \n",
    "    return(param)\n",
    "\n",
    "def getParams(haloCat, mapFile, model='Li', coeffs=None, **kwargs):\n",
    "    params = defaultParams()\n",
    "    params.halo_catalogue_file = haloCat\n",
    "    params.map_output_file = mapFile\n",
    "    params.model=model\n",
    "    params.coeffs=coeffs\n",
    "    \n",
    "    if kwargs is not None:\n",
    "        for key, value in kwargs.items():\n",
    "            if key in params.__dict__:\n",
    "                params.__dict__[key] = value\n",
    "            else:\n",
    "                print('Field {} does not exist in the parameter object'.format(key))\n",
    "            \n",
    "    return(params)"
   ]
  },
  {
   "cell_type": "code",
   "execution_count": 4,
   "metadata": {
    "collapsed": false
   },
   "outputs": [],
   "source": [
    "haloLoc = '../catalogues/'\n",
    "mapLoc = '../maps/'\n",
    "\n",
    "paramDict = {}\n",
    "paramDict['model'] = 'Li'\n",
    "paramDict['coeffs'] = None\n",
    "\n",
    "for sub in subFields:\n",
    "    if 'COMAP_z2.39-3.44_1140Mpc_seed_13649_rotate_0_subfield_0.npz' in sub:\n",
    "        param = getParams(haloLoc + sub, mapLoc + sub, **paramDict)\n",
    "        lnn.makeAndSaveMapAndLumFunc(param, verbose=False)"
   ]
  },
  {
   "cell_type": "code",
   "execution_count": null,
   "metadata": {
    "collapsed": false
   },
   "outputs": [],
   "source": []
  },
  {
   "cell_type": "code",
   "execution_count": null,
   "metadata": {
    "collapsed": false
   },
   "outputs": [],
   "source": []
  },
  {
   "cell_type": "code",
   "execution_count": null,
   "metadata": {
    "collapsed": false
   },
   "outputs": [],
   "source": []
  },
  {
   "cell_type": "code",
   "execution_count": null,
   "metadata": {
    "collapsed": true
   },
   "outputs": [],
   "source": []
  }
 ],
 "metadata": {
  "kernelspec": {
   "display_name": "Python 3",
   "language": "python",
   "name": "python3"
  },
  "language_info": {
   "codemirror_mode": {
    "name": "ipython",
    "version": 3
   },
   "file_extension": ".py",
   "mimetype": "text/x-python",
   "name": "python",
   "nbconvert_exporter": "python",
   "pygments_lexer": "ipython3",
   "version": "3.5.3"
  }
 },
 "nbformat": 4,
 "nbformat_minor": 0
}
