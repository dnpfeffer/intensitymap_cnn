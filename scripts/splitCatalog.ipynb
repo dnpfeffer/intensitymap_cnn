{
 "cells": [
  {
   "cell_type": "code",
   "execution_count": 1,
   "metadata": {
    "collapsed": true
   },
   "outputs": [],
   "source": [
    "import os"
   ]
  },
  {
   "cell_type": "code",
   "execution_count": 2,
   "metadata": {
    "collapsed": true
   },
   "outputs": [],
   "source": [
    "os.chdir('../catalogues')"
   ]
  },
  {
   "cell_type": "code",
   "execution_count": 3,
   "metadata": {
    "collapsed": false
   },
   "outputs": [],
   "source": [
    "import split_halo_catalogue as shc"
   ]
  },
  {
   "cell_type": "code",
   "execution_count": 4,
   "metadata": {
    "collapsed": true
   },
   "outputs": [],
   "source": [
    "fIn = 'COMAP_z2.39-3.44_1140Mpc_seed_13579.npz'"
   ]
  },
  {
   "cell_type": "code",
   "execution_count": 5,
   "metadata": {
    "collapsed": false
   },
   "outputs": [
    {
     "name": "stdout",
     "output_type": "stream",
     "text": [
      "\n",
      "\thalo catalogue contains:\n",
      "\t\t ['cosmo_header', 'M', 'zform', 'vx', 'zhalo', 'vy', 'y', 'x', 'vz', 'z']\n",
      "\n",
      "\t51306419 halos loaded\n"
     ]
    }
   ],
   "source": [
    "halos, cosmo = shc.load_peakpatch_catalogue(fIn)"
   ]
  },
  {
   "cell_type": "code",
   "execution_count": 8,
   "metadata": {
    "collapsed": false
   },
   "outputs": [
    {
     "data": {
      "text/plain": [
       "-5.7341356"
      ]
     },
     "execution_count": 8,
     "metadata": {},
     "output_type": "execute_result"
    }
   ],
   "source": [
    "min(halos.ra)"
   ]
  },
  {
   "cell_type": "code",
   "execution_count": 9,
   "metadata": {
    "collapsed": false
   },
   "outputs": [
    {
     "data": {
      "text/plain": [
       "5.7902255"
      ]
     },
     "execution_count": 9,
     "metadata": {},
     "output_type": "execute_result"
    }
   ],
   "source": [
    "max(halos.ra)"
   ]
  },
  {
   "cell_type": "code",
   "execution_count": 13,
   "metadata": {
    "collapsed": false
   },
   "outputs": [
    {
     "data": {
      "text/plain": [
       "11.524361"
      ]
     },
     "execution_count": 13,
     "metadata": {},
     "output_type": "execute_result"
    }
   ],
   "source": [
    "max(halos.ra) - min(halos.ra)"
   ]
  },
  {
   "cell_type": "code",
   "execution_count": 10,
   "metadata": {
    "collapsed": false
   },
   "outputs": [
    {
     "data": {
      "text/plain": [
       "-5.7696514"
      ]
     },
     "execution_count": 10,
     "metadata": {},
     "output_type": "execute_result"
    }
   ],
   "source": [
    "min(halos.dec)"
   ]
  },
  {
   "cell_type": "code",
   "execution_count": 11,
   "metadata": {
    "collapsed": false
   },
   "outputs": [
    {
     "data": {
      "text/plain": [
       "5.791305"
      ]
     },
     "execution_count": 11,
     "metadata": {},
     "output_type": "execute_result"
    }
   ],
   "source": [
    "max(halos.dec)"
   ]
  },
  {
   "cell_type": "code",
   "execution_count": 25,
   "metadata": {
    "collapsed": false
   },
   "outputs": [],
   "source": [
    "# fov_x  = max(halos.ra) - min(halos.ra)\n",
    "# fov_y  = max(halos.dec) - min(halos.dec)\n",
    "fov_x  = 9.52\n",
    "fov_y  = 9.52"
   ]
  },
  {
   "cell_type": "code",
   "execution_count": 26,
   "metadata": {
    "collapsed": false
   },
   "outputs": [
    {
     "name": "stdout",
     "output_type": "stream",
     "text": [
      "\n",
      "------------------------------------------------------------------------------------------\n",
      " 36  subfields of 1.4 deg x 1.4 deg can fit into the full 9.52 deg x 9.52 deg fov \n",
      "------------------------------------------------------------------------------------------\n",
      "\n"
     ]
    }
   ],
   "source": [
    "fov_x_subfield = 1.4\n",
    "fov_y_subfield = 1.4\n",
    "\n",
    "n_subfield   = int((fov_x//fov_x_subfield) * (fov_y//fov_y_subfield))\n",
    "n_y_subfield = int(fov_x//fov_x_subfield)\n",
    "n_x_subfield = int(fov_y//fov_y_subfield)\n",
    "\n",
    "fov_x_new  = n_x_subfield*fov_x_subfield\n",
    "fov_y_new  = n_y_subfield*fov_y_subfield\n",
    "\n",
    "bar = 90*'-'\n",
    "print('\\n'+bar+'\\n',n_subfield,' subfields of',fov_x_subfield,'deg x',fov_y_subfield,'deg can fit into the full',fov_x,'deg x',fov_y,'deg fov','\\n'+bar+'\\n',)"
   ]
  },
  {
   "cell_type": "code",
   "execution_count": null,
   "metadata": {
    "collapsed": true
   },
   "outputs": [],
   "source": [
    "# loop over each subfield and save halos as seperate files\n",
    "for i in range(n_y_subfield):\n",
    "    for j in range(n_x_subfield):\n",
    "\n",
    "        fov_x_l  = -fov_x_new/2 + fov_x_subfield * (j  )\n",
    "        fov_x_r  = -fov_x_new/2 + fov_x_subfield * (j+1)\n",
    "\n",
    "        fov_y_l  = -fov_y_new/2 + fov_y_subfield * (i  )\n",
    "        fov_y_r  = -fov_y_new/2 + fov_y_subfield * (i+1)\n",
    "\n",
    "        cen_fov_x = -fov_x_new/2 + fov_x_subfield * (j+1./2)\n",
    "        cen_fov_y = -fov_y_new/2 + fov_y_subfield * (i+1./2)\n",
    "\n",
    "        # cut halos outside sub-field of view\n",
    "        halosi = shc.cull_peakpatch_catalogue(halos, fov_x_l, fov_x_r, fov_y_l, fov_y_r)\n",
    "\n",
    "        ifileout = i*n_x_subfield+j\n",
    "        print(\"writing subfield: \", ifileout)\n",
    "        fileout = filein[:-4]+'_subfield_'+str(ifileout)\n",
    "\n",
    "        # save to file, with cen_x_fov, cen_y_fov denoting the center of the field of view kept\n",
    "        cosmo_header   = {'Omega_M': cosmo.Omega_M, 'Omega_B': cosmo.Omega_B, 'Omega_L': cosmo.Omega_L,\n",
    "                          'h':cosmo.h, 'ns':cosmo.ns, 'sigma8':cosmo.sigma8,\n",
    "                          'cen_x_fov':cen_fov_x, 'cen_y_fov':cen_fov_y}\n",
    "        np.savez(fileout, cosmo_header=cosmo_header,\n",
    "                 x=halosi.x_pos, y=halosi.y_pos, z=halosi.z_pos,\n",
    "                 vx=halosi.vx, vy=halosi.vy, vz=halosi.vz,\n",
    "                 M=halosi.M, zhalo=halosi.redshift,zform=halosi.zformation)"
   ]
  },
  {
   "cell_type": "code",
   "execution_count": 14,
   "metadata": {
    "collapsed": false
   },
   "outputs": [
    {
     "data": {
      "text/plain": [
       "9.0"
      ]
     },
     "execution_count": 14,
     "metadata": {},
     "output_type": "execute_result"
    }
   ],
   "source": [
    "fov_x_new"
   ]
  },
  {
   "cell_type": "code",
   "execution_count": 5,
   "metadata": {
    "collapsed": true
   },
   "outputs": [],
   "source": [
    "import matplotlib.pyplot as plt\n",
    "import numpy as np"
   ]
  },
  {
   "cell_type": "code",
   "execution_count": 24,
   "metadata": {
    "collapsed": false
   },
   "outputs": [
    {
     "data": {
      "image/png": "[encoded data removed]",
      "text/plain": [
       "<Figure size 432x288 with 1 Axes>"
      ]
     },
     "metadata": {},
     "output_type": "display_data"
    }
   ],
   "source": [
    "t1, t2 = np.histogram(halos.ra, bins='auto')\n",
    "plt.hist(halos.ra, bins='auto')\n",
    "plt.xlim([-4.751,4.751])\n",
    "plt.show()"
   ]
  },
  {
   "cell_type": "code",
   "execution_count": 18,
   "metadata": {
    "collapsed": false
   },
   "outputs": [
    {
     "data": {
      "text/plain": [
       "array([   172,   1565,   3975,   7416,  10993,  15516,  19237,  23194,\n",
       "        28714,  32908,  35937,  38574,  42354,  45319,  48240,  53013,\n",
       "        58557,  62767,  67451,  71728,  74545,  78317,  82021,  87798,\n",
       "        94061,  98384, 103080, 106937, 111758, 113749, 117184, 120031,\n",
       "       124081, 128103, 131623, 132576, 134529, 133611, 132017, 134994,\n",
       "       135862, 133871, 134756, 135752, 135609, 137360, 138027, 137246,\n",
       "       135819, 136798, 137704, 137723, 137866, 137341, 136139, 134450,\n",
       "       135668, 136132, 138695, 140146, 139164, 138296, 139215, 139304,\n",
       "       141468, 143020, 140783, 140844, 142867, 141051, 140559, 140266,\n",
       "       139045, 139383, 138498, 136930, 138335, 137968, 138564, 139916,\n",
       "       139949, 137300, 138905, 140430, 139971, 138556, 139380, 139161,\n",
       "       138809, 137807, 137977, 138570, 138000, 136012, 135846, 136281,\n",
       "       135897, 135632, 134050, 133524, 134599, 134655, 135812, 135461,\n",
       "       137265, 136662, 135695, 136461, 139750, 139336, 137761, 137110,\n",
       "       137954, 139380, 141786, 141895, 140063, 140748, 139127, 138320,\n",
       "       138733, 138807, 138266, 136084, 135018, 135707, 136601, 134280,\n",
       "       134260, 134851, 136008, 135149, 136956, 138566, 138343, 137219,\n",
       "       137322, 137667, 137153, 136161, 135670, 134642, 134987, 137485,\n",
       "       138397, 136071, 135959, 137148, 136677, 136881, 135533, 137117,\n",
       "       139153, 137575, 135703, 134147, 134779, 136253, 134946, 134528,\n",
       "       134038, 132717, 134050, 134110, 136456, 134858, 134736, 135030,\n",
       "       136115, 136007, 136234, 137981, 137798, 137993, 136550, 136697,\n",
       "       136666, 137282, 137773, 139815, 139568, 139383, 140962, 140684,\n",
       "       138040, 138367, 138056, 139004, 140662, 141331, 143364, 141290,\n",
       "       141983, 141806, 140886, 140799, 141470, 140229, 141279, 141217,\n",
       "       140856, 140834, 140085, 139831, 141442, 142179, 140603, 139357,\n",
       "       137039, 135851, 134142, 134664, 135602, 136940, 136705, 137800,\n",
       "       138585, 139682, 138479, 137309, 139292, 138428, 138183, 136073,\n",
       "       135433, 135255, 135416, 136407, 137165, 136001, 136976, 138599,\n",
       "       138067, 136165, 136178, 137267, 136931, 137889, 138497, 137942,\n",
       "       136680, 136752, 140376, 140809, 142573, 142803, 141263, 139842,\n",
       "       141065, 142545, 139830, 141098, 142514, 143331, 141860, 139991,\n",
       "       137981, 137551, 135985, 135785, 138214, 138992, 140565, 139456,\n",
       "       141507, 139049, 139524, 142017, 141162, 139792, 140727, 141473,\n",
       "       141890, 143196, 140139, 137723, 136876, 136633, 135368, 135952,\n",
       "       138441, 139425, 137809, 136894, 136612, 136310, 135236, 136444,\n",
       "       136937, 138458, 136781, 136032, 137182, 136776, 138334, 137659,\n",
       "       137980, 137246, 134121, 133446, 132056, 131675, 132949, 134400,\n",
       "       136332, 134421, 135172, 137030, 140180, 139183, 137332, 137804,\n",
       "       140488, 138518, 135913, 134615, 132575, 131861, 131900, 133478,\n",
       "       134781, 133851, 134019, 131562, 134634, 136600, 134487, 133978,\n",
       "       134717, 135049, 133558, 133108, 134878, 134082, 134484, 135763,\n",
       "       136429, 136481, 136323, 135343, 134779, 133586, 130288, 131287,\n",
       "       133879, 132423, 132851, 133798, 134311, 134601, 134359, 132101,\n",
       "       131411, 133498, 134309, 133269, 132697, 133581, 133647, 134699,\n",
       "       133618, 135095, 136280, 137559, 137406, 136031, 135566, 135629,\n",
       "       135773, 134446, 131882, 131880, 131847, 134189, 131884, 133638,\n",
       "       133763, 130281, 127632, 122780, 117485, 113365, 108665, 105478,\n",
       "       101227,  96764,  93142,  89467,  83505,  79305,  75735,  72272,\n",
       "        69103,  66388,  61736,  57099,  52975,  50265,  46502,  42312,\n",
       "        37119,  33338,  30196,  26457,  22386,  18964,  15741,  11663,\n",
       "         7885,   5211,   2599,    769,    124])"
      ]
     },
     "execution_count": 18,
     "metadata": {},
     "output_type": "execute_result"
    }
   ],
   "source": [
    "t1"
   ]
  },
  {
   "cell_type": "code",
   "execution_count": 11,
   "metadata": {
    "collapsed": false
   },
   "outputs": [
    {
     "data": {
      "image/png": "[encoded data removed]",
      "text/plain": [
       "<Figure size 432x288 with 1 Axes>"
      ]
     },
     "metadata": {},
     "output_type": "display_data"
    }
   ],
   "source": [
    "plt.hist(halos.dec, bins='auto')\n",
    "plt.show()"
   ]
  },
  {
   "cell_type": "code",
   "execution_count": 5,
   "metadata": {
    "collapsed": false
   },
   "outputs": [
    {
     "name": "stdout",
     "output_type": "stream",
     "text": [
      "\n",
      "------------------------------------------------------------------------------------------\n",
      " 4  subfields of 1.4 deg x 1.4 deg can fit into the full 3.0 deg x 3.0 deg fov \n",
      "------------------------------------------------------------------------------------------\n",
      "\n",
      "\n",
      "\thalo catalogue contains:\n",
      "\t\t ['cosmo_header', 'M', 'zform', 'vx', 'zhalo', 'vy', 'y', 'x', 'vz', 'z']\n",
      "\n",
      "\t51306419 halos loaded\n",
      "\n",
      "\t991739 halos remain after map cut\n",
      "writing subfield:  0\n",
      "\n",
      "\t896656 halos remain after map cut\n",
      "writing subfield:  1\n",
      "\n",
      "\t960273 halos remain after map cut\n",
      "writing subfield:  2\n",
      "\n",
      "\t908539 halos remain after map cut\n",
      "writing subfield:  3\n"
     ]
    }
   ],
   "source": [
    "shc.split_catalogue(fIn, True)"
   ]
  },
  {
   "cell_type": "markdown",
   "metadata": {},
   "source": [
    "# Rotate positions"
   ]
  },
  {
   "cell_type": "code",
   "execution_count": 5,
   "metadata": {
    "collapsed": true
   },
   "outputs": [],
   "source": [
    "import matplotlib.pyplot as plt\n",
    "import numpy as np"
   ]
  },
  {
   "cell_type": "code",
   "execution_count": 9,
   "metadata": {
    "collapsed": false
   },
   "outputs": [
    {
     "data": {
      "image/png": "[encoded data removed]",
      "text/plain": [
       "<Figure size 432x288 with 1 Axes>"
      ]
     },
     "metadata": {},
     "output_type": "display_data"
    }
   ],
   "source": [
    "x = [1, 1, 2, 3, 3, 4]\n",
    "y = [1, 2, 2, 4, 3, 4]\n",
    "plt.scatter(x, y)\n",
    "plt.show()"
   ]
  },
  {
   "cell_type": "code",
   "execution_count": 11,
   "metadata": {
    "collapsed": false
   },
   "outputs": [],
   "source": [
    "m = [[np.cos(ang), -np.sin(ang)], [np.sin(ang), np.cos(ang)]]"
   ]
  },
  {
   "cell_type": "code",
   "execution_count": 12,
   "metadata": {
    "collapsed": false
   },
   "outputs": [
    {
     "data": {
      "text/plain": [
       "[[-1.0, -1.2246467991473532e-16], [1.2246467991473532e-16, -1.0]]"
      ]
     },
     "execution_count": 12,
     "metadata": {},
     "output_type": "execute_result"
    }
   ],
   "source": [
    "m"
   ]
  },
  {
   "cell_type": "code",
   "execution_count": 13,
   "metadata": {
    "collapsed": false
   },
   "outputs": [],
   "source": [
    "x2, y2 = np.matmul(m, [x, y])"
   ]
  },
  {
   "cell_type": "code",
   "execution_count": 10,
   "metadata": {
    "collapsed": false
   },
   "outputs": [],
   "source": [
    "ang = np.pi"
   ]
  },
  {
   "cell_type": "code",
   "execution_count": 15,
   "metadata": {
    "collapsed": true
   },
   "outputs": [],
   "source": [
    "x2 = []\n",
    "y2 = []\n",
    "for x,y in zip(x,y):\n",
    "    x2.append(np.cos(ang)*x - np.sin(ang)*y)\n",
    "    y2.append(np.sin(ang)*x + np.cos(ang)*y)"
   ]
  },
  {
   "cell_type": "code",
   "execution_count": 14,
   "metadata": {
    "collapsed": false
   },
   "outputs": [
    {
     "data": {
      "image/png": "[encoded data removed]",
      "text/plain": [
       "<Figure size 432x288 with 1 Axes>"
      ]
     },
     "metadata": {},
     "output_type": "display_data"
    }
   ],
   "source": [
    "plt.scatter(x2, y2)\n",
    "plt.show()"
   ]
  },
  {
   "cell_type": "code",
   "execution_count": 17,
   "metadata": {
    "collapsed": false
   },
   "outputs": [
    {
     "data": {
      "image/png": "[encoded data removed]",
      "text/plain": [
       "<Figure size 432x288 with 1 Axes>"
      ]
     },
     "metadata": {},
     "output_type": "display_data"
    }
   ],
   "source": [
    "x = x2\n",
    "y = y2\n",
    "plt.scatter(x, y)\n",
    "plt.show()"
   ]
  },
  {
   "cell_type": "code",
   "execution_count": 18,
   "metadata": {
    "collapsed": false
   },
   "outputs": [
    {
     "data": {
      "text/plain": [
       "array([ 1,  2, 34])"
      ]
     },
     "execution_count": 18,
     "metadata": {},
     "output_type": "execute_result"
    }
   ],
   "source": [
    "np.array([1,2,34])"
   ]
  },
  {
   "cell_type": "code",
   "execution_count": 29,
   "metadata": {
    "collapsed": false
   },
   "outputs": [
    {
     "data": {
      "text/plain": [
       "'180'"
      ]
     },
     "execution_count": 29,
     "metadata": {},
     "output_type": "execute_result"
    }
   ],
   "source": [
    "'{0:d}'.format(int(180.5))"
   ]
  },
  {
   "cell_type": "code",
   "execution_count": 5,
   "metadata": {
    "collapsed": false
   },
   "outputs": [
    {
     "name": "stdout",
     "output_type": "stream",
     "text": [
      "\n",
      "------------------------------------------------------------------------------------------\n",
      " 4  subfields of 1.4 deg x 1.4 deg can fit into the full 3.0 deg x 3.0 deg fov \n",
      "------------------------------------------------------------------------------------------\n",
      "\n",
      "\n",
      "\thalo catalogue contains:\n",
      "\t\t ['cosmo_header', 'M', 'zform', 'vx', 'zhalo', 'vy', 'y', 'x', 'vz', 'z']\n",
      "\n",
      "\trotate catalogs by 180 degrees\n",
      "\n",
      "\t51306419 halos loaded\n",
      "\n",
      "\t908539 halos remain after map cut\n",
      "writing subfield:  0\n",
      "\n",
      "\t960273 halos remain after map cut\n",
      "writing subfield:  1\n",
      "\n",
      "\t896656 halos remain after map cut\n",
      "writing subfield:  2\n",
      "\n",
      "\t991739 halos remain after map cut\n",
      "writing subfield:  3\n"
     ]
    }
   ],
   "source": [
    "shc.split_catalogue(fIn, 180, True)"
   ]
  },
  {
   "cell_type": "code",
   "execution_count": 7,
   "metadata": {
    "collapsed": false
   },
   "outputs": [
    {
     "name": "stdout",
     "output_type": "stream",
     "text": [
      "\n",
      "------------------------------------------------------------------------------------------\n",
      " 4  subfields of 1.4 deg x 1.4 deg can fit into the full 3.0 deg x 3.0 deg fov \n",
      "------------------------------------------------------------------------------------------\n",
      "\n",
      "\n",
      "\thalo catalogue contains:\n",
      "\t\t ['cosmo_header', 'M', 'zform', 'vx', 'zhalo', 'vy', 'y', 'x', 'vz', 'z']\n",
      "[-244.34204 -236.45581 -225.84695 -281.2183  -209.22865 -227.40985\n",
      " -244.3466  -194.96432 -209.85834 -269.94022]\n",
      "[-100.42944  -101.372505 -132.22028  -136.22385  -117.77108  -142.22499\n",
      " -106.08487  -171.4949   -129.62122  -171.08308 ]\n",
      "[2.132791  2.0684428 1.9914612 2.4533706 1.8476788 2.0065684 2.136873\n",
      " 1.7156451 1.848221  2.3608103]\n",
      "[-0.87634873 -0.8865122  -1.1654893  -1.1878942  -1.0397313  -1.2544763\n",
      " -0.92744297 -1.5085452  -1.1412243  -1.4954746 ]\n",
      "\n",
      "\t51306419 halos loaded\n",
      "\n",
      "\t991739 halos remain after map cut\n",
      "writing subfield:  0\n",
      "\n",
      "\t896656 halos remain after map cut\n",
      "writing subfield:  1\n",
      "\n",
      "\t960273 halos remain after map cut\n",
      "writing subfield:  2\n",
      "\n",
      "\t908539 halos remain after map cut\n",
      "writing subfield:  3\n"
     ]
    }
   ],
   "source": [
    "shc.split_catalogue(fIn, 0, True)"
   ]
  },
  {
   "cell_type": "markdown",
   "metadata": {},
   "source": [
    "# Loop Through All Normal Catalogs"
   ]
  },
  {
   "cell_type": "code",
   "execution_count": 8,
   "metadata": {
    "collapsed": true
   },
   "outputs": [],
   "source": [
    "from os import listdir"
   ]
  },
  {
   "cell_type": "code",
   "execution_count": 14,
   "metadata": {
    "collapsed": false
   },
   "outputs": [],
   "source": [
    "from os.path import isfile, join\n",
    "onlyfiles = [f for f in listdir('./') if (isfile(join('./', f)) and f[0] != '.' and '.py' not in f and 'subfield' not in f)]"
   ]
  },
  {
   "cell_type": "code",
   "execution_count": 15,
   "metadata": {
    "collapsed": false
   },
   "outputs": [
    {
     "data": {
      "text/plain": [
       "['COMAP_z2.39-3.44_1140Mpc_seed_13579.npz']"
      ]
     },
     "execution_count": 15,
     "metadata": {},
     "output_type": "execute_result"
    }
   ],
   "source": [
    "onlyfiles"
   ]
  },
  {
   "cell_type": "code",
   "execution_count": null,
   "metadata": {
    "collapsed": true
   },
   "outputs": [],
   "source": []
  }
 ],
 "metadata": {
  "kernelspec": {
   "display_name": "Python 3",
   "language": "python",
   "name": "python3"
  },
  "language_info": {
   "codemirror_mode": {
    "name": "ipython",
    "version": 3
   },
   "file_extension": ".py",
   "mimetype": "text/x-python",
   "name": "python",
   "nbconvert_exporter": "python",
   "pygments_lexer": "ipython3",
   "version": "3.5.3"
  }
 },
 "nbformat": 4,
 "nbformat_minor": 2
}
